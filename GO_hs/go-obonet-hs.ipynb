{
 "cells": [
  {
   "cell_type": "markdown",
   "metadata": {},
   "source": [
    "# import annotations for genes"
   ]
  },
  {
   "cell_type": "code",
   "execution_count": 1,
   "metadata": {
    "ExecuteTime": {
     "end_time": "2021-10-15T10:17:32.444759Z",
     "start_time": "2021-10-15T10:17:25.936905Z"
    }
   },
   "outputs": [],
   "source": [
    "import pandas as pd"
   ]
  },
  {
   "cell_type": "code",
   "execution_count": 2,
   "metadata": {
    "ExecuteTime": {
     "end_time": "2021-10-11T02:58:09.052921Z",
     "start_time": "2021-10-11T02:58:07.057466Z"
    }
   },
   "outputs": [],
   "source": [
    "anno = pd.read_csv(\"./goa_human.gaf\", sep=\"\\t\", \n",
    "                       comment=\"!\", low_memory=False,\n",
    "                       names=[\"DB\",\"DBObjectID\",\"Symbol\",\"Qualifier\",\n",
    " \"GOID\",\"DBReference\",\"EvidenceCode\",\"WithFrom\",\n",
    " \"Aspect\",\"DBObjectName\",\"DBObjectSynonym\",\"DBObjectType\",\n",
    " \"Taxon\",\"Date\",\"AssignedBy\",\"AnnotationExtension\",\"GeneProductFormID\"]\n",
    "                      )"
   ]
  },
  {
   "cell_type": "code",
   "execution_count": 3,
   "metadata": {
    "ExecuteTime": {
     "end_time": "2021-10-11T02:58:09.114757Z",
     "start_time": "2021-10-11T02:58:09.053919Z"
    }
   },
   "outputs": [
    {
     "data": {
      "text/html": [
       "<div>\n",
       "<style scoped>\n",
       "    .dataframe tbody tr th:only-of-type {\n",
       "        vertical-align: middle;\n",
       "    }\n",
       "\n",
       "    .dataframe tbody tr th {\n",
       "        vertical-align: top;\n",
       "    }\n",
       "\n",
       "    .dataframe thead th {\n",
       "        text-align: right;\n",
       "    }\n",
       "</style>\n",
       "<table border=\"1\" class=\"dataframe\">\n",
       "  <thead>\n",
       "    <tr style=\"text-align: right;\">\n",
       "      <th></th>\n",
       "      <th>DB</th>\n",
       "      <th>DBObjectID</th>\n",
       "      <th>Symbol</th>\n",
       "      <th>Qualifier</th>\n",
       "      <th>GOID</th>\n",
       "      <th>DBReference</th>\n",
       "      <th>EvidenceCode</th>\n",
       "      <th>WithFrom</th>\n",
       "      <th>Aspect</th>\n",
       "      <th>DBObjectName</th>\n",
       "      <th>DBObjectSynonym</th>\n",
       "      <th>DBObjectType</th>\n",
       "      <th>Taxon</th>\n",
       "      <th>Date</th>\n",
       "      <th>AssignedBy</th>\n",
       "      <th>AnnotationExtension</th>\n",
       "      <th>GeneProductFormID</th>\n",
       "    </tr>\n",
       "  </thead>\n",
       "  <tbody>\n",
       "    <tr>\n",
       "      <td>0</td>\n",
       "      <td>UniProtKB</td>\n",
       "      <td>A0A024RBG1</td>\n",
       "      <td>NUDT4B</td>\n",
       "      <td>enables</td>\n",
       "      <td>GO:0003723</td>\n",
       "      <td>GO_REF:0000043</td>\n",
       "      <td>IEA</td>\n",
       "      <td>UniProtKB-KW:KW-0694</td>\n",
       "      <td>F</td>\n",
       "      <td>Diphosphoinositol polyphosphate phosphohydrola...</td>\n",
       "      <td>NUDT4B</td>\n",
       "      <td>protein</td>\n",
       "      <td>taxon:9606</td>\n",
       "      <td>20210417</td>\n",
       "      <td>UniProt</td>\n",
       "      <td>NaN</td>\n",
       "      <td>NaN</td>\n",
       "    </tr>\n",
       "    <tr>\n",
       "      <td>1</td>\n",
       "      <td>UniProtKB</td>\n",
       "      <td>A0A024RBG1</td>\n",
       "      <td>NUDT4B</td>\n",
       "      <td>enables</td>\n",
       "      <td>GO:0046872</td>\n",
       "      <td>GO_REF:0000043</td>\n",
       "      <td>IEA</td>\n",
       "      <td>UniProtKB-KW:KW-0479</td>\n",
       "      <td>F</td>\n",
       "      <td>Diphosphoinositol polyphosphate phosphohydrola...</td>\n",
       "      <td>NUDT4B</td>\n",
       "      <td>protein</td>\n",
       "      <td>taxon:9606</td>\n",
       "      <td>20210417</td>\n",
       "      <td>UniProt</td>\n",
       "      <td>NaN</td>\n",
       "      <td>NaN</td>\n",
       "    </tr>\n",
       "    <tr>\n",
       "      <td>2</td>\n",
       "      <td>UniProtKB</td>\n",
       "      <td>A0A024RBG1</td>\n",
       "      <td>NUDT4B</td>\n",
       "      <td>enables</td>\n",
       "      <td>GO:0052840</td>\n",
       "      <td>GO_REF:0000003</td>\n",
       "      <td>IEA</td>\n",
       "      <td>EC:3.6.1.52</td>\n",
       "      <td>F</td>\n",
       "      <td>Diphosphoinositol polyphosphate phosphohydrola...</td>\n",
       "      <td>NUDT4B</td>\n",
       "      <td>protein</td>\n",
       "      <td>taxon:9606</td>\n",
       "      <td>20210417</td>\n",
       "      <td>UniProt</td>\n",
       "      <td>NaN</td>\n",
       "      <td>NaN</td>\n",
       "    </tr>\n",
       "    <tr>\n",
       "      <td>3</td>\n",
       "      <td>UniProtKB</td>\n",
       "      <td>A0A024RBG1</td>\n",
       "      <td>NUDT4B</td>\n",
       "      <td>enables</td>\n",
       "      <td>GO:0052842</td>\n",
       "      <td>GO_REF:0000003</td>\n",
       "      <td>IEA</td>\n",
       "      <td>EC:3.6.1.52</td>\n",
       "      <td>F</td>\n",
       "      <td>Diphosphoinositol polyphosphate phosphohydrola...</td>\n",
       "      <td>NUDT4B</td>\n",
       "      <td>protein</td>\n",
       "      <td>taxon:9606</td>\n",
       "      <td>20210417</td>\n",
       "      <td>UniProt</td>\n",
       "      <td>NaN</td>\n",
       "      <td>NaN</td>\n",
       "    </tr>\n",
       "    <tr>\n",
       "      <td>4</td>\n",
       "      <td>UniProtKB</td>\n",
       "      <td>A0A024RBG1</td>\n",
       "      <td>NUDT4B</td>\n",
       "      <td>located_in</td>\n",
       "      <td>GO:0005829</td>\n",
       "      <td>GO_REF:0000052</td>\n",
       "      <td>IDA</td>\n",
       "      <td>NaN</td>\n",
       "      <td>C</td>\n",
       "      <td>Diphosphoinositol polyphosphate phosphohydrola...</td>\n",
       "      <td>NUDT4B</td>\n",
       "      <td>protein</td>\n",
       "      <td>taxon:9606</td>\n",
       "      <td>20161204</td>\n",
       "      <td>HPA</td>\n",
       "      <td>NaN</td>\n",
       "      <td>NaN</td>\n",
       "    </tr>\n",
       "    <tr>\n",
       "      <td>...</td>\n",
       "      <td>...</td>\n",
       "      <td>...</td>\n",
       "      <td>...</td>\n",
       "      <td>...</td>\n",
       "      <td>...</td>\n",
       "      <td>...</td>\n",
       "      <td>...</td>\n",
       "      <td>...</td>\n",
       "      <td>...</td>\n",
       "      <td>...</td>\n",
       "      <td>...</td>\n",
       "      <td>...</td>\n",
       "      <td>...</td>\n",
       "      <td>...</td>\n",
       "      <td>...</td>\n",
       "      <td>...</td>\n",
       "      <td>...</td>\n",
       "    </tr>\n",
       "    <tr>\n",
       "      <td>619342</td>\n",
       "      <td>UniProtKB</td>\n",
       "      <td>Q14061</td>\n",
       "      <td>COX17</td>\n",
       "      <td>involved_in</td>\n",
       "      <td>GO:0033617</td>\n",
       "      <td>PMID:21873635</td>\n",
       "      <td>IBA</td>\n",
       "      <td>PANTHER:PTN000423137|UniProtKB:Q14061|SGD:S000...</td>\n",
       "      <td>P</td>\n",
       "      <td>Cytochrome c oxidase copper chaperone</td>\n",
       "      <td>COX17</td>\n",
       "      <td>gene_product</td>\n",
       "      <td>taxon:9606</td>\n",
       "      <td>20170228</td>\n",
       "      <td>GO_Central</td>\n",
       "      <td>NaN</td>\n",
       "      <td>NaN</td>\n",
       "    </tr>\n",
       "    <tr>\n",
       "      <td>619343</td>\n",
       "      <td>UniProtKB</td>\n",
       "      <td>Q8NEZ3</td>\n",
       "      <td>WDR19</td>\n",
       "      <td>involved_in</td>\n",
       "      <td>GO:0035721</td>\n",
       "      <td>PMID:21873635</td>\n",
       "      <td>IBA</td>\n",
       "      <td>PANTHER:PTN000383096|WB:WBGene00001118|UniProt...</td>\n",
       "      <td>P</td>\n",
       "      <td>WD repeat-containing protein 19</td>\n",
       "      <td>WDR19|IFT144|KIAA1638</td>\n",
       "      <td>gene_product</td>\n",
       "      <td>taxon:9606</td>\n",
       "      <td>20170228</td>\n",
       "      <td>GO_Central</td>\n",
       "      <td>NaN</td>\n",
       "      <td>NaN</td>\n",
       "    </tr>\n",
       "    <tr>\n",
       "      <td>619344</td>\n",
       "      <td>UniProtKB</td>\n",
       "      <td>Q96KP1</td>\n",
       "      <td>EXOC2</td>\n",
       "      <td>part_of</td>\n",
       "      <td>GO:0000145</td>\n",
       "      <td>PMID:21873635</td>\n",
       "      <td>IBA</td>\n",
       "      <td>PANTHER:PTN000315823|UniProtKB:Q96KP1|FB:FBgn0...</td>\n",
       "      <td>C</td>\n",
       "      <td>Exocyst complex component 2</td>\n",
       "      <td>EXOC2|SEC5|SEC5L1</td>\n",
       "      <td>gene_product</td>\n",
       "      <td>taxon:9606</td>\n",
       "      <td>20200808</td>\n",
       "      <td>GO_Central</td>\n",
       "      <td>NaN</td>\n",
       "      <td>NaN</td>\n",
       "    </tr>\n",
       "    <tr>\n",
       "      <td>619345</td>\n",
       "      <td>UniProtKB</td>\n",
       "      <td>O43597</td>\n",
       "      <td>SPRY2</td>\n",
       "      <td>involved_in</td>\n",
       "      <td>GO:0046580</td>\n",
       "      <td>PMID:21873635</td>\n",
       "      <td>IBA</td>\n",
       "      <td>PANTHER:PTN000961788|MGI:MGI:1345139|MGI:MGI:1...</td>\n",
       "      <td>P</td>\n",
       "      <td>Protein sprouty homolog 2</td>\n",
       "      <td>SPRY2</td>\n",
       "      <td>gene_product</td>\n",
       "      <td>taxon:9606</td>\n",
       "      <td>20170420</td>\n",
       "      <td>GO_Central</td>\n",
       "      <td>NaN</td>\n",
       "      <td>NaN</td>\n",
       "    </tr>\n",
       "    <tr>\n",
       "      <td>619346</td>\n",
       "      <td>UniProtKB</td>\n",
       "      <td>O43704</td>\n",
       "      <td>SULT1B1</td>\n",
       "      <td>enables</td>\n",
       "      <td>GO:0004062</td>\n",
       "      <td>PMID:21873635</td>\n",
       "      <td>IBA</td>\n",
       "      <td>PANTHER:PTN000926146|UniProtKB:O43704|MGI:MGI:...</td>\n",
       "      <td>F</td>\n",
       "      <td>Sulfotransferase family cytosolic 1B member 1</td>\n",
       "      <td>SULT1B1|ST1B2|SULT1B2</td>\n",
       "      <td>gene_product</td>\n",
       "      <td>taxon:9606</td>\n",
       "      <td>20201024</td>\n",
       "      <td>GO_Central</td>\n",
       "      <td>NaN</td>\n",
       "      <td>NaN</td>\n",
       "    </tr>\n",
       "  </tbody>\n",
       "</table>\n",
       "<p>619347 rows × 17 columns</p>\n",
       "</div>"
      ],
      "text/plain": [
       "               DB  DBObjectID   Symbol    Qualifier        GOID  \\\n",
       "0       UniProtKB  A0A024RBG1   NUDT4B      enables  GO:0003723   \n",
       "1       UniProtKB  A0A024RBG1   NUDT4B      enables  GO:0046872   \n",
       "2       UniProtKB  A0A024RBG1   NUDT4B      enables  GO:0052840   \n",
       "3       UniProtKB  A0A024RBG1   NUDT4B      enables  GO:0052842   \n",
       "4       UniProtKB  A0A024RBG1   NUDT4B   located_in  GO:0005829   \n",
       "...           ...         ...      ...          ...         ...   \n",
       "619342  UniProtKB      Q14061    COX17  involved_in  GO:0033617   \n",
       "619343  UniProtKB      Q8NEZ3    WDR19  involved_in  GO:0035721   \n",
       "619344  UniProtKB      Q96KP1    EXOC2      part_of  GO:0000145   \n",
       "619345  UniProtKB      O43597    SPRY2  involved_in  GO:0046580   \n",
       "619346  UniProtKB      O43704  SULT1B1      enables  GO:0004062   \n",
       "\n",
       "           DBReference EvidenceCode  \\\n",
       "0       GO_REF:0000043          IEA   \n",
       "1       GO_REF:0000043          IEA   \n",
       "2       GO_REF:0000003          IEA   \n",
       "3       GO_REF:0000003          IEA   \n",
       "4       GO_REF:0000052          IDA   \n",
       "...                ...          ...   \n",
       "619342   PMID:21873635          IBA   \n",
       "619343   PMID:21873635          IBA   \n",
       "619344   PMID:21873635          IBA   \n",
       "619345   PMID:21873635          IBA   \n",
       "619346   PMID:21873635          IBA   \n",
       "\n",
       "                                                 WithFrom Aspect  \\\n",
       "0                                    UniProtKB-KW:KW-0694      F   \n",
       "1                                    UniProtKB-KW:KW-0479      F   \n",
       "2                                             EC:3.6.1.52      F   \n",
       "3                                             EC:3.6.1.52      F   \n",
       "4                                                     NaN      C   \n",
       "...                                                   ...    ...   \n",
       "619342  PANTHER:PTN000423137|UniProtKB:Q14061|SGD:S000...      P   \n",
       "619343  PANTHER:PTN000383096|WB:WBGene00001118|UniProt...      P   \n",
       "619344  PANTHER:PTN000315823|UniProtKB:Q96KP1|FB:FBgn0...      C   \n",
       "619345  PANTHER:PTN000961788|MGI:MGI:1345139|MGI:MGI:1...      P   \n",
       "619346  PANTHER:PTN000926146|UniProtKB:O43704|MGI:MGI:...      F   \n",
       "\n",
       "                                             DBObjectName  \\\n",
       "0       Diphosphoinositol polyphosphate phosphohydrola...   \n",
       "1       Diphosphoinositol polyphosphate phosphohydrola...   \n",
       "2       Diphosphoinositol polyphosphate phosphohydrola...   \n",
       "3       Diphosphoinositol polyphosphate phosphohydrola...   \n",
       "4       Diphosphoinositol polyphosphate phosphohydrola...   \n",
       "...                                                   ...   \n",
       "619342              Cytochrome c oxidase copper chaperone   \n",
       "619343                    WD repeat-containing protein 19   \n",
       "619344                        Exocyst complex component 2   \n",
       "619345                          Protein sprouty homolog 2   \n",
       "619346      Sulfotransferase family cytosolic 1B member 1   \n",
       "\n",
       "              DBObjectSynonym  DBObjectType       Taxon      Date  AssignedBy  \\\n",
       "0                      NUDT4B       protein  taxon:9606  20210417     UniProt   \n",
       "1                      NUDT4B       protein  taxon:9606  20210417     UniProt   \n",
       "2                      NUDT4B       protein  taxon:9606  20210417     UniProt   \n",
       "3                      NUDT4B       protein  taxon:9606  20210417     UniProt   \n",
       "4                      NUDT4B       protein  taxon:9606  20161204         HPA   \n",
       "...                       ...           ...         ...       ...         ...   \n",
       "619342                  COX17  gene_product  taxon:9606  20170228  GO_Central   \n",
       "619343  WDR19|IFT144|KIAA1638  gene_product  taxon:9606  20170228  GO_Central   \n",
       "619344      EXOC2|SEC5|SEC5L1  gene_product  taxon:9606  20200808  GO_Central   \n",
       "619345                  SPRY2  gene_product  taxon:9606  20170420  GO_Central   \n",
       "619346  SULT1B1|ST1B2|SULT1B2  gene_product  taxon:9606  20201024  GO_Central   \n",
       "\n",
       "       AnnotationExtension  GeneProductFormID  \n",
       "0                      NaN                NaN  \n",
       "1                      NaN                NaN  \n",
       "2                      NaN                NaN  \n",
       "3                      NaN                NaN  \n",
       "4                      NaN                NaN  \n",
       "...                    ...                ...  \n",
       "619342                 NaN                NaN  \n",
       "619343                 NaN                NaN  \n",
       "619344                 NaN                NaN  \n",
       "619345                 NaN                NaN  \n",
       "619346                 NaN                NaN  \n",
       "\n",
       "[619347 rows x 17 columns]"
      ]
     },
     "execution_count": 3,
     "metadata": {},
     "output_type": "execute_result"
    }
   ],
   "source": [
    "anno"
   ]
  },
  {
   "cell_type": "markdown",
   "metadata": {},
   "source": [
    "# obonet tutorial: import and analyze the Gene Ontology in Python\n",
    "\n",
    "This tutotial shows:\n",
    "\n",
    "1. How to read the Gene Ontology OBO export into `networkx` using the [`obonet`](https://github.com/dhimmel/obonet) package.\n",
    "2. Simple tasks you can do with the `networkx.MultiDiGraph` data structure."
   ]
  },
  {
   "cell_type": "code",
   "execution_count": 2,
   "metadata": {
    "ExecuteTime": {
     "end_time": "2021-10-15T10:17:35.574756Z",
     "start_time": "2021-10-15T10:17:32.446454Z"
    }
   },
   "outputs": [],
   "source": [
    "import networkx\n",
    "import obonet"
   ]
  },
  {
   "cell_type": "markdown",
   "metadata": {},
   "source": [
    "### Read the Gene Ontology\n",
    "\n",
    "Learn more about the Gene Ontology (GO) downloads [here](http://geneontology.org/page/download-ontology). Note how we can read the OBO file from a URL. `obonet.read_obo` automically detects whether it's passed a local path, URL, or open file. In addition, `obonet.read_obo` will automtically decompress files ending in `.gz`, `.bz2`, or `.gz`."
   ]
  },
  {
   "cell_type": "code",
   "execution_count": 3,
   "metadata": {
    "ExecuteTime": {
     "end_time": "2021-10-15T10:17:46.223817Z",
     "start_time": "2021-10-15T10:17:38.342398Z"
    }
   },
   "outputs": [
    {
     "name": "stdout",
     "output_type": "stream",
     "text": [
      "Wall time: 7.87 s\n"
     ]
    }
   ],
   "source": [
    "%%time\n",
    "# url = 'http://purl.obolibrary.org/obo/go.obo'\n",
    "graph = obonet.read_obo('./go.obo')"
   ]
  },
  {
   "cell_type": "code",
   "execution_count": 6,
   "metadata": {
    "ExecuteTime": {
     "end_time": "2021-10-11T02:58:20.494252Z",
     "start_time": "2021-10-11T02:58:19.884322Z"
    }
   },
   "outputs": [
    {
     "name": "stdout",
     "output_type": "stream",
     "text": [
      "43987\n",
      "90185\n",
      "False\n"
     ]
    }
   ],
   "source": [
    "# Number of nodes\n",
    "print(len(graph))\n",
    "# Number of edges\n",
    "print(graph.number_of_edges())\n",
    "# Check if the ontology is a DAG\n",
    "print(networkx.is_directed_acyclic_graph(graph))"
   ]
  },
  {
   "cell_type": "code",
   "execution_count": 11,
   "metadata": {
    "ExecuteTime": {
     "end_time": "2021-09-02T06:43:31.285680Z",
     "start_time": "2021-09-02T06:43:31.271718Z"
    }
   },
   "outputs": [
    {
     "data": {
      "text/plain": [
       "{'typedefs': [{'id': 'ends_during',\n",
       "   'name': 'ends_during',\n",
       "   'namespace': 'external',\n",
       "   'xref': ['RO:0002093']},\n",
       "  {'id': 'happens_during',\n",
       "   'name': 'happens during',\n",
       "   'namespace': 'external',\n",
       "   'xref': ['RO:0002092'],\n",
       "   'is_transitive': 'true',\n",
       "   'is_a': ['ends_during']},\n",
       "  {'id': 'has_part',\n",
       "   'name': 'has part',\n",
       "   'namespace': 'external',\n",
       "   'xref': ['BFO:0000051'],\n",
       "   'is_transitive': 'true'},\n",
       "  {'id': 'negatively_regulates',\n",
       "   'name': 'negatively regulates',\n",
       "   'namespace': 'external',\n",
       "   'xref': ['RO:0002212'],\n",
       "   'is_a': ['regulates']},\n",
       "  {'id': 'occurs_in',\n",
       "   'name': 'occurs in',\n",
       "   'namespace': 'external',\n",
       "   'xref': ['BFO:0000066'],\n",
       "   'transitive_over': ['part_of']},\n",
       "  {'id': 'part_of',\n",
       "   'name': 'part of',\n",
       "   'namespace': 'external',\n",
       "   'xref': ['BFO:0000050'],\n",
       "   'is_transitive': 'true',\n",
       "   'inverse_of': ['has_part']},\n",
       "  {'id': 'positively_regulates',\n",
       "   'name': 'positively regulates',\n",
       "   'namespace': 'external',\n",
       "   'xref': ['RO:0002213'],\n",
       "   'holds_over_chain': ['negatively_regulates negatively_regulates'],\n",
       "   'is_a': ['regulates']},\n",
       "  {'id': 'regulates',\n",
       "   'name': 'regulates',\n",
       "   'namespace': 'external',\n",
       "   'xref': ['RO:0002211'],\n",
       "   'is_transitive': 'true'},\n",
       "  {'id': 'starts_during',\n",
       "   'name': 'starts_during',\n",
       "   'namespace': 'external',\n",
       "   'xref': ['RO:0002091']},\n",
       "  {'id': 'term_tracker_item',\n",
       "   'name': 'term tracker item',\n",
       "   'namespace': 'external',\n",
       "   'xref': ['IAO:0000233'],\n",
       "   'is_metadata_tag': 'true',\n",
       "   'is_class_level': 'true'}],\n",
       " 'instances': [],\n",
       " 'format-version': '1.2',\n",
       " 'data-version': 'releases/2021-05-01',\n",
       " 'subsetdef': ['chebi_ph7_3 \"Rhea list of ChEBI terms representing the major species at pH 7.3.\"',\n",
       "  'gocheck_do_not_annotate \"Term not to be used for direct annotation\"',\n",
       "  'gocheck_do_not_manually_annotate \"Term not to be used for direct manual annotation\"',\n",
       "  'goslim_agr \"AGR slim\"',\n",
       "  'goslim_aspergillus \"Aspergillus GO slim\"',\n",
       "  'goslim_candida \"Candida GO slim\"',\n",
       "  'goslim_chembl \"ChEMBL protein targets summary\"',\n",
       "  'goslim_drosophila \"Drosophila GO slim\"',\n",
       "  'goslim_flybase_ribbon \"FlyBase Drosophila GO ribbon slim\"',\n",
       "  'goslim_generic \"Generic GO slim\"',\n",
       "  'goslim_metagenomics \"Metagenomics GO slim\"',\n",
       "  'goslim_mouse \"Mouse GO slim\"',\n",
       "  'goslim_pir \"PIR GO slim\"',\n",
       "  'goslim_plant \"Plant GO slim\"',\n",
       "  'goslim_pombe \"Fission yeast GO slim\"',\n",
       "  'goslim_synapse \"synapse GO slim\"',\n",
       "  'goslim_yeast \"Yeast GO slim\"'],\n",
       " 'synonymtypedef': ['syngo_official_label \"label approved by the SynGO project\"',\n",
       "  'systematic_synonym \"Systematic synonym\" EXACT'],\n",
       " 'default-namespace': ['gene_ontology'],\n",
       " 'ontology': 'go',\n",
       " 'property_value': ['http://purl.org/dc/elements/1.1/description \"The Gene Ontology (GO) provides a framework and set of concepts for describing the functions of gene products from all organisms.\" xsd:string',\n",
       "  'http://purl.org/dc/elements/1.1/title \"Gene Ontology\" xsd:string',\n",
       "  'http://purl.org/dc/terms/license http://creativecommons.org/licenses/by/4.0/',\n",
       "  'owl:versionInfo \"2021-05-01\" xsd:string'],\n",
       " 'name': 'go'}"
      ]
     },
     "execution_count": 11,
     "metadata": {},
     "output_type": "execute_result"
    }
   ],
   "source": [
    "graph.graph"
   ]
  },
  {
   "cell_type": "markdown",
   "metadata": {},
   "source": [
    "### Create name mappings\n",
    "\n",
    "Note that for some OBO ontologies, some nodes only have an id and not a name ([see issue](https://github.com/dhimmel/obonet/issues/11))."
   ]
  },
  {
   "cell_type": "code",
   "execution_count": 7,
   "metadata": {
    "ExecuteTime": {
     "end_time": "2021-10-11T02:58:43.609407Z",
     "start_time": "2021-10-11T02:58:43.572506Z"
    }
   },
   "outputs": [],
   "source": [
    "id_to_name = {id_: data.get('name') for id_, data in graph.nodes(data=True)}\n",
    "name_to_id = {data['name']: id_ for id_, data in graph.nodes(data=True) if 'name' in data}"
   ]
  },
  {
   "cell_type": "code",
   "execution_count": 8,
   "metadata": {
    "ExecuteTime": {
     "end_time": "2021-10-11T02:58:48.243621Z",
     "start_time": "2021-10-11T02:58:48.234645Z"
    }
   },
   "outputs": [
    {
     "data": {
      "text/plain": [
       "43987"
      ]
     },
     "execution_count": 8,
     "metadata": {},
     "output_type": "execute_result"
    }
   ],
   "source": [
    "len(name_to_id)"
   ]
  },
  {
   "cell_type": "code",
   "execution_count": 9,
   "metadata": {
    "ExecuteTime": {
     "end_time": "2021-10-11T02:59:12.063846Z",
     "start_time": "2021-10-11T02:59:12.055868Z"
    }
   },
   "outputs": [
    {
     "data": {
      "text/plain": [
       "['mitochondrion inheritance',\n",
       " 'mitochondrial genome maintenance',\n",
       " 'reproduction',\n",
       " 'high-affinity zinc transmembrane transporter activity',\n",
       " 'low-affinity zinc ion transmembrane transporter activity',\n",
       " 'alpha-1,6-mannosyltransferase activity',\n",
       " 'trans-hexaprenyltranstransferase activity',\n",
       " 'vacuole inheritance',\n",
       " 'single strand break repair',\n",
       " 'single-stranded DNA endodeoxyribonuclease activity']"
      ]
     },
     "execution_count": 9,
     "metadata": {},
     "output_type": "execute_result"
    }
   ],
   "source": [
    "list(name_to_id.keys())[:10]"
   ]
  },
  {
   "cell_type": "code",
   "execution_count": 13,
   "metadata": {
    "ExecuteTime": {
     "end_time": "2021-09-02T06:43:40.131703Z",
     "start_time": "2021-09-02T06:43:40.117740Z"
    }
   },
   "outputs": [
    {
     "data": {
      "text/plain": [
       "'mitochondrion inheritance'"
      ]
     },
     "execution_count": 13,
     "metadata": {},
     "output_type": "execute_result"
    }
   ],
   "source": [
    "# Get the name for GO:0042552\n",
    "id_to_name['GO:0000001']"
   ]
  },
  {
   "cell_type": "code",
   "execution_count": 35,
   "metadata": {
    "ExecuteTime": {
     "end_time": "2021-09-02T07:25:13.458321Z",
     "start_time": "2021-09-02T07:25:13.439370Z"
    }
   },
   "outputs": [
    {
     "data": {
      "text/plain": [
       "[]"
      ]
     },
     "execution_count": 35,
     "metadata": {},
     "output_type": "execute_result"
    }
   ],
   "source": [
    "sorted(id_to_name[subterm] for subterm in networkx.descendants(graph, name_to_id['biological_process']))"
   ]
  },
  {
   "cell_type": "code",
   "execution_count": 34,
   "metadata": {
    "ExecuteTime": {
     "end_time": "2021-09-02T07:17:07.244737Z",
     "start_time": "2021-09-02T07:17:07.238244Z"
    }
   },
   "outputs": [
    {
     "data": {
      "text/plain": [
       "'mitochondrion inheritance'"
      ]
     },
     "execution_count": 34,
     "metadata": {},
     "output_type": "execute_result"
    }
   ],
   "source": [
    "id_to_name['GO:0000001']"
   ]
  },
  {
   "cell_type": "code",
   "execution_count": 17,
   "metadata": {
    "ExecuteTime": {
     "end_time": "2021-09-02T06:52:25.699989Z",
     "start_time": "2021-09-02T06:52:25.691010Z"
    }
   },
   "outputs": [
    {
     "data": {
      "text/plain": [
       "'GO:0008150'"
      ]
     },
     "execution_count": 17,
     "metadata": {},
     "output_type": "execute_result"
    }
   ],
   "source": [
    "name_to_id['biological_process']"
   ]
  },
  {
   "cell_type": "code",
   "execution_count": 10,
   "metadata": {
    "ExecuteTime": {
     "end_time": "2021-10-11T03:00:04.700267Z",
     "start_time": "2021-10-11T03:00:04.691290Z"
    }
   },
   "outputs": [],
   "source": [
    "def read_gmt(gmt_file):\n",
    "    with open(gmt_file, 'r') as f:\n",
    "        id_to_genes = dict()\n",
    "        for line in f.readlines():\n",
    "            l = line.strip().split('\\t')\n",
    "            GOID = l[1]\n",
    "            if len(l)>2:\n",
    "                id_to_genes[GOID] = l[2:]\n",
    "            else:\n",
    "                id_to_genes[GOID] = []\n",
    "    return(id_to_genes)"
   ]
  },
  {
   "cell_type": "code",
   "execution_count": 11,
   "metadata": {
    "ExecuteTime": {
     "end_time": "2021-10-11T03:00:05.173420Z",
     "start_time": "2021-10-11T03:00:04.850286Z"
    }
   },
   "outputs": [],
   "source": [
    "gs_gobp = read_gmt('GOBP_hs.gmt')"
   ]
  },
  {
   "cell_type": "code",
   "execution_count": 12,
   "metadata": {
    "ExecuteTime": {
     "end_time": "2021-10-11T03:00:07.142699Z",
     "start_time": "2021-10-11T03:00:07.137712Z"
    }
   },
   "outputs": [
    {
     "data": {
      "text/plain": [
       "31532"
      ]
     },
     "execution_count": 12,
     "metadata": {},
     "output_type": "execute_result"
    }
   ],
   "source": [
    "len(gs_gobp)"
   ]
  },
  {
   "cell_type": "code",
   "execution_count": 17,
   "metadata": {
    "ExecuteTime": {
     "end_time": "2021-10-11T03:01:18.732839Z",
     "start_time": "2021-10-11T03:01:18.715911Z"
    }
   },
   "outputs": [],
   "source": [
    "name_to_len = {k:len(v) for k,v in gs_gobp.items()}"
   ]
  },
  {
   "cell_type": "code",
   "execution_count": 24,
   "metadata": {
    "ExecuteTime": {
     "end_time": "2021-10-11T03:02:50.358234Z",
     "start_time": "2021-10-11T03:02:50.350230Z"
    }
   },
   "outputs": [],
   "source": [
    "import matplotlib.pyplot as plt\n",
    "import numpy as np"
   ]
  },
  {
   "cell_type": "code",
   "execution_count": 28,
   "metadata": {
    "ExecuteTime": {
     "end_time": "2021-10-11T03:03:12.654889Z",
     "start_time": "2021-10-11T03:03:12.644917Z"
    }
   },
   "outputs": [
    {
     "data": {
      "text/plain": [
       "13717"
      ]
     },
     "execution_count": 28,
     "metadata": {},
     "output_type": "execute_result"
    }
   ],
   "source": [
    "np.sum(np.array(list(name_to_len.values()))==0)"
   ]
  },
  {
   "cell_type": "code",
   "execution_count": 21,
   "metadata": {
    "ExecuteTime": {
     "end_time": "2021-10-11T03:02:13.010632Z",
     "start_time": "2021-10-11T03:01:59.404180Z"
    }
   },
   "outputs": [
    {
     "data": {
      "text/plain": [
       "(0, 100)"
      ]
     },
     "execution_count": 21,
     "metadata": {},
     "output_type": "execute_result"
    },
    {
     "data": {
      "image/png": "[encoded data removed]",
      "text/plain": [
       "<Figure size 432x288 with 1 Axes>"
      ]
     },
     "metadata": {
      "needs_background": "light"
     },
     "output_type": "display_data"
    }
   ],
   "source": [
    "_ = plt.hist(list(name_to_len.values()),bins = 10000)\n",
    "plt.xlim(0,100)"
   ]
  },
  {
   "cell_type": "code",
   "execution_count": 34,
   "metadata": {
    "ExecuteTime": {
     "end_time": "2021-10-11T03:16:24.553328Z",
     "start_time": "2021-10-11T03:16:24.536375Z"
    }
   },
   "outputs": [
    {
     "data": {
      "text/plain": [
       "[1.0, 2.0, 6.0, 27.0, 301.0, 17039.0]"
      ]
     },
     "execution_count": 34,
     "metadata": {},
     "output_type": "execute_result"
    }
   ],
   "source": [
    "list(np.quantile([i for i in list(name_to_len.values())if i!=0], q = [0,0.25,0.5,0.75,0.95,1]))"
   ]
  },
  {
   "cell_type": "code",
   "execution_count": 33,
   "metadata": {
    "ExecuteTime": {
     "end_time": "2021-09-02T07:07:20.139788Z",
     "start_time": "2021-09-02T07:07:19.304393Z"
    }
   },
   "outputs": [],
   "source": [
    "import matplotlib.pyplot as plt\n",
    "import networkx as nx"
   ]
  },
  {
   "cell_type": "code",
   "execution_count": null,
   "metadata": {},
   "outputs": [],
   "source": [
    "nx.draw(G, with_labels=True)"
   ]
  },
  {
   "cell_type": "code",
   "execution_count": 3,
   "metadata": {
    "ExecuteTime": {
     "end_time": "2021-09-02T06:36:05.348442Z",
     "start_time": "2021-09-02T06:35:59.889596Z"
    }
   },
   "outputs": [],
   "source": [
    "from pyscenic.aucell import aucell"
   ]
  },
  {
   "cell_type": "code",
   "execution_count": 36,
   "metadata": {
    "ExecuteTime": {
     "end_time": "2021-09-02T12:28:03.608611Z",
     "start_time": "2021-09-02T12:28:03.523838Z"
    }
   },
   "outputs": [],
   "source": [
    "?aucell"
   ]
  },
  {
   "cell_type": "code",
   "execution_count": 37,
   "metadata": {
    "ExecuteTime": {
     "end_time": "2021-09-02T12:29:22.130173Z",
     "start_time": "2021-09-02T12:29:22.122195Z"
    }
   },
   "outputs": [],
   "source": [
    "from ctxcore.genesig import GeneSignature"
   ]
  },
  {
   "cell_type": "code",
   "execution_count": 38,
   "metadata": {
    "ExecuteTime": {
     "end_time": "2021-09-02T12:29:53.823652Z",
     "start_time": "2021-09-02T12:29:53.805700Z"
    }
   },
   "outputs": [],
   "source": [
    "?GeneSignature"
   ]
  },
  {
   "cell_type": "code",
   "execution_count": 42,
   "metadata": {
    "ExecuteTime": {
     "end_time": "2021-09-02T12:40:18.475977Z",
     "start_time": "2021-09-02T12:40:18.465028Z"
    }
   },
   "outputs": [],
   "source": [
    "gs_gobp_use = {k:v for k,v in gs_gobp.items() if len(v)>50 and len(v)<500}"
   ]
  },
  {
   "cell_type": "code",
   "execution_count": 43,
   "metadata": {
    "ExecuteTime": {
     "end_time": "2021-09-02T12:40:19.785412Z",
     "start_time": "2021-09-02T12:40:19.773446Z"
    }
   },
   "outputs": [
    {
     "data": {
      "text/plain": [
       "2535"
      ]
     },
     "execution_count": 43,
     "metadata": {},
     "output_type": "execute_result"
    }
   ],
   "source": [
    "len(gs_gobp_use)"
   ]
  },
  {
   "cell_type": "code",
   "execution_count": 53,
   "metadata": {
    "ExecuteTime": {
     "end_time": "2021-09-02T13:29:54.962910Z",
     "start_time": "2021-09-02T13:29:54.958921Z"
    }
   },
   "outputs": [
    {
     "data": {
      "text/plain": [
       "'GO:0000018'"
      ]
     },
     "execution_count": 53,
     "metadata": {},
     "output_type": "execute_result"
    }
   ],
   "source": [
    "GOID"
   ]
  },
  {
   "cell_type": "code",
   "execution_count": 56,
   "metadata": {
    "ExecuteTime": {
     "end_time": "2021-09-02T13:30:15.196917Z",
     "start_time": "2021-09-02T13:30:15.127082Z"
    }
   },
   "outputs": [
    {
     "data": {
      "application/vnd.jupyter.widget-view+json": {
       "model_id": "5deab133646f4fc891c9c48c01c29793",
       "version_major": 2,
       "version_minor": 0
      },
      "text/plain": [
       "  0%|          | 0/2535 [00:00<?, ?it/s]"
      ]
     },
     "metadata": {},
     "output_type": "display_data"
    }
   ],
   "source": [
    "from tqdm.notebook import tqdm\n",
    "with open('./GOBP_hs_50tp500.gmt', 'a') as f:\n",
    "    for GOID in tqdm(gs_gobp_use.keys()):\n",
    "        line= id_to_name[GOID]+\"\\t\"+GOID+\"\\t\"+ \"\\t\".join(gs_gobp_use[GOID])+\"\\n\"\n",
    "        f.write(line)"
   ]
  },
  {
   "cell_type": "code",
   "execution_count": 44,
   "metadata": {
    "ExecuteTime": {
     "end_time": "2021-09-02T12:42:00.799713Z",
     "start_time": "2021-09-02T12:41:33.227347Z"
    }
   },
   "outputs": [],
   "source": [
    "import scanpy as sc\n",
    "import pandas as pd\n",
    "from matplotlib.pyplot import rc_context\n",
    "import numpy as np\n",
    "import matplotlib.pyplot as plt\n",
    "import sys\n",
    "import umap"
   ]
  },
  {
   "cell_type": "code",
   "execution_count": 46,
   "metadata": {
    "ExecuteTime": {
     "end_time": "2021-09-02T12:42:39.376302Z",
     "start_time": "2021-09-02T12:42:39.371315Z"
    }
   },
   "outputs": [
    {
     "name": "stdout",
     "output_type": "stream",
     "text": [
      "scanpy==1.7.2 anndata==0.7.6 umap==0.5.0 numpy==1.19.5 scipy==1.7.0 pandas==1.2.5 scikit-learn==0.24.2 statsmodels==0.12.2 python-igraph==0.9.6 louvain==0.7.0\n"
     ]
    }
   ],
   "source": [
    "sc.settings.verbosity = 3             # verbosity: errors (0), warnings (1), info (2), hints (3)\n",
    "sc.logging.print_header()\n",
    "# sc.settings.set_figure_params(dpi=80, facecolor='white')\n",
    "sc.settings.set_figure_params(vector_friendly=False)"
   ]
  },
  {
   "cell_type": "code",
   "execution_count": 47,
   "metadata": {
    "ExecuteTime": {
     "end_time": "2021-09-02T13:10:31.793601Z",
     "start_time": "2021-09-02T13:09:48.357542Z"
    }
   },
   "outputs": [
    {
     "data": {
      "text/plain": [
       "(1372, 13)"
      ]
     },
     "execution_count": 47,
     "metadata": {},
     "output_type": "execute_result"
    }
   ],
   "source": [
    "mtx = pd.read_table(index_col=0, \n",
    "                    filepath_or_buffer='E:/Github/HCL_scanpy/GSM3943046_Adult-Adipose1_dge.txt')\n",
    "mtx.shape\n",
    "anno = pd.read_csv(index_col=0, \n",
    "                   filepath_or_buffer='E:/Github/HCL_scanpy/Adult-Adipose1_rmbatchAnno.csv')\n",
    "anno.shape"
   ]
  },
  {
   "cell_type": "code",
   "execution_count": 48,
   "metadata": {
    "ExecuteTime": {
     "end_time": "2021-09-02T13:10:31.983094Z",
     "start_time": "2021-09-02T13:10:31.794598Z"
    }
   },
   "outputs": [
    {
     "data": {
      "text/plain": [
       "AnnData object with n_obs × n_vars = 1372 × 19917\n",
       "    obs: 'Sample', 'Batch', 'Cell_id', 'Cluster_id', 'Ages', 'Development_stage', 'Method', 'Gender', 'Source', 'Biomaterial', 'Name', 'ident', 'Celltype'"
      ]
     },
     "execution_count": 48,
     "metadata": {},
     "output_type": "execute_result"
    }
   ],
   "source": [
    "mtx_used = mtx.loc[:,anno.index]\n",
    "adata = sc.AnnData(X = mtx_used.T, obs = anno)\n",
    "adata"
   ]
  },
  {
   "cell_type": "code",
   "execution_count": 57,
   "metadata": {
    "ExecuteTime": {
     "end_time": "2021-09-02T13:30:34.791731Z",
     "start_time": "2021-09-02T13:30:34.633156Z"
    }
   },
   "outputs": [],
   "source": [
    "signatures = GeneSignature.from_gmt('GOBP_hs_50tp500.gmt')"
   ]
  },
  {
   "cell_type": "code",
   "execution_count": 63,
   "metadata": {
    "ExecuteTime": {
     "end_time": "2021-09-02T13:32:53.139884Z",
     "start_time": "2021-09-02T13:32:53.132903Z"
    }
   },
   "outputs": [
    {
     "data": {
      "text/plain": [
       "(1372, 19917)"
      ]
     },
     "execution_count": 63,
     "metadata": {},
     "output_type": "execute_result"
    }
   ],
   "source": [
    "mtx_used.T.shape"
   ]
  },
  {
   "cell_type": "code",
   "execution_count": 64,
   "metadata": {
    "ExecuteTime": {
     "end_time": "2021-09-02T13:33:23.884552Z",
     "start_time": "2021-09-02T13:32:56.962486Z"
    },
    "scrolled": true
   },
   "outputs": [
    {
     "data": {
      "text/html": [
       "<div>\n",
       "<style scoped>\n",
       "    .dataframe tbody tr th:only-of-type {\n",
       "        vertical-align: middle;\n",
       "    }\n",
       "\n",
       "    .dataframe tbody tr th {\n",
       "        vertical-align: top;\n",
       "    }\n",
       "\n",
       "    .dataframe thead th {\n",
       "        text-align: right;\n",
       "    }\n",
       "</style>\n",
       "<table border=\"1\" class=\"dataframe\">\n",
       "  <thead>\n",
       "    <tr style=\"text-align: right;\">\n",
       "      <th>Regulon</th>\n",
       "      <th>regulation of DNA recombination</th>\n",
       "      <th>transition metal ion transport</th>\n",
       "      <th>autophagosome assembly</th>\n",
       "      <th>mitotic sister chromatid segregation</th>\n",
       "      <th>cell cycle checkpoint signaling</th>\n",
       "      <th>DNA damage checkpoint signaling</th>\n",
       "      <th>regulation of cyclin-dependent protein serine/threonine kinase activity</th>\n",
       "      <th>mitotic G1 phase</th>\n",
       "      <th>G1/S transition of mitotic cell cycle</th>\n",
       "      <th>G2/M transition of mitotic cell cycle</th>\n",
       "      <th>...</th>\n",
       "      <th>positive regulation of apoptotic signaling pathway</th>\n",
       "      <th>regulation of extrinsic apoptotic signaling pathway</th>\n",
       "      <th>negative regulation of extrinsic apoptotic signaling pathway</th>\n",
       "      <th>regulation of intrinsic apoptotic signaling pathway</th>\n",
       "      <th>negative regulation of intrinsic apoptotic signaling pathway</th>\n",
       "      <th>positive regulation of intrinsic apoptotic signaling pathway</th>\n",
       "      <th>negative regulation of chromosome organization</th>\n",
       "      <th>positive regulation of chromosome organization</th>\n",
       "      <th>regulation of cation channel activity</th>\n",
       "      <th>positive regulation of cation channel activity</th>\n",
       "    </tr>\n",
       "    <tr>\n",
       "      <th>Cell</th>\n",
       "      <th></th>\n",
       "      <th></th>\n",
       "      <th></th>\n",
       "      <th></th>\n",
       "      <th></th>\n",
       "      <th></th>\n",
       "      <th></th>\n",
       "      <th></th>\n",
       "      <th></th>\n",
       "      <th></th>\n",
       "      <th></th>\n",
       "      <th></th>\n",
       "      <th></th>\n",
       "      <th></th>\n",
       "      <th></th>\n",
       "      <th></th>\n",
       "      <th></th>\n",
       "      <th></th>\n",
       "      <th></th>\n",
       "      <th></th>\n",
       "      <th></th>\n",
       "    </tr>\n",
       "  </thead>\n",
       "  <tbody>\n",
       "    <tr>\n",
       "      <th>AAAACGCCATCTTTTAGG</th>\n",
       "      <td>0.0</td>\n",
       "      <td>0.037271</td>\n",
       "      <td>0.020156</td>\n",
       "      <td>0.025599</td>\n",
       "      <td>0.022751</td>\n",
       "      <td>0.023631</td>\n",
       "      <td>0.039260</td>\n",
       "      <td>0.034000</td>\n",
       "      <td>0.042582</td>\n",
       "      <td>0.025189</td>\n",
       "      <td>...</td>\n",
       "      <td>0.078983</td>\n",
       "      <td>0.067408</td>\n",
       "      <td>0.074805</td>\n",
       "      <td>0.073750</td>\n",
       "      <td>0.072336</td>\n",
       "      <td>0.071190</td>\n",
       "      <td>0.042303</td>\n",
       "      <td>0.052002</td>\n",
       "      <td>0.0</td>\n",
       "      <td>0.0</td>\n",
       "    </tr>\n",
       "    <tr>\n",
       "      <th>AAAACGCTTCTGGGACAT</th>\n",
       "      <td>0.0</td>\n",
       "      <td>0.070300</td>\n",
       "      <td>0.010353</td>\n",
       "      <td>0.023561</td>\n",
       "      <td>0.020921</td>\n",
       "      <td>0.019615</td>\n",
       "      <td>0.031978</td>\n",
       "      <td>0.038016</td>\n",
       "      <td>0.037507</td>\n",
       "      <td>0.013935</td>\n",
       "      <td>...</td>\n",
       "      <td>0.067058</td>\n",
       "      <td>0.045796</td>\n",
       "      <td>0.054062</td>\n",
       "      <td>0.076298</td>\n",
       "      <td>0.078874</td>\n",
       "      <td>0.080757</td>\n",
       "      <td>0.035532</td>\n",
       "      <td>0.021033</td>\n",
       "      <td>0.0</td>\n",
       "      <td>0.0</td>\n",
       "    </tr>\n",
       "    <tr>\n",
       "      <th>AAAACGTCGTAAGTATAC</th>\n",
       "      <td>0.0</td>\n",
       "      <td>0.060110</td>\n",
       "      <td>0.020739</td>\n",
       "      <td>0.019353</td>\n",
       "      <td>0.024880</td>\n",
       "      <td>0.026221</td>\n",
       "      <td>0.037091</td>\n",
       "      <td>0.027337</td>\n",
       "      <td>0.049527</td>\n",
       "      <td>0.027716</td>\n",
       "      <td>...</td>\n",
       "      <td>0.090696</td>\n",
       "      <td>0.069651</td>\n",
       "      <td>0.065140</td>\n",
       "      <td>0.104695</td>\n",
       "      <td>0.107687</td>\n",
       "      <td>0.112848</td>\n",
       "      <td>0.025027</td>\n",
       "      <td>0.030755</td>\n",
       "      <td>0.0</td>\n",
       "      <td>0.0</td>\n",
       "    </tr>\n",
       "    <tr>\n",
       "      <th>AAAACGTGCAATGGGTTT</th>\n",
       "      <td>0.0</td>\n",
       "      <td>0.047405</td>\n",
       "      <td>0.043507</td>\n",
       "      <td>0.017940</td>\n",
       "      <td>0.014172</td>\n",
       "      <td>0.017505</td>\n",
       "      <td>0.040357</td>\n",
       "      <td>0.033665</td>\n",
       "      <td>0.043131</td>\n",
       "      <td>0.029424</td>\n",
       "      <td>...</td>\n",
       "      <td>0.068907</td>\n",
       "      <td>0.051454</td>\n",
       "      <td>0.051106</td>\n",
       "      <td>0.073716</td>\n",
       "      <td>0.074356</td>\n",
       "      <td>0.064162</td>\n",
       "      <td>0.033047</td>\n",
       "      <td>0.026014</td>\n",
       "      <td>0.0</td>\n",
       "      <td>0.0</td>\n",
       "    </tr>\n",
       "    <tr>\n",
       "      <th>AAAACGTTCCGCTAGAGA</th>\n",
       "      <td>0.0</td>\n",
       "      <td>0.033799</td>\n",
       "      <td>0.039362</td>\n",
       "      <td>0.026862</td>\n",
       "      <td>0.025390</td>\n",
       "      <td>0.026301</td>\n",
       "      <td>0.063969</td>\n",
       "      <td>0.052437</td>\n",
       "      <td>0.051447</td>\n",
       "      <td>0.025019</td>\n",
       "      <td>...</td>\n",
       "      <td>0.038884</td>\n",
       "      <td>0.068566</td>\n",
       "      <td>0.076051</td>\n",
       "      <td>0.052507</td>\n",
       "      <td>0.079434</td>\n",
       "      <td>0.002387</td>\n",
       "      <td>0.033292</td>\n",
       "      <td>0.019653</td>\n",
       "      <td>0.0</td>\n",
       "      <td>0.0</td>\n",
       "    </tr>\n",
       "    <tr>\n",
       "      <th>...</th>\n",
       "      <td>...</td>\n",
       "      <td>...</td>\n",
       "      <td>...</td>\n",
       "      <td>...</td>\n",
       "      <td>...</td>\n",
       "      <td>...</td>\n",
       "      <td>...</td>\n",
       "      <td>...</td>\n",
       "      <td>...</td>\n",
       "      <td>...</td>\n",
       "      <td>...</td>\n",
       "      <td>...</td>\n",
       "      <td>...</td>\n",
       "      <td>...</td>\n",
       "      <td>...</td>\n",
       "      <td>...</td>\n",
       "      <td>...</td>\n",
       "      <td>...</td>\n",
       "      <td>...</td>\n",
       "      <td>...</td>\n",
       "      <td>...</td>\n",
       "    </tr>\n",
       "    <tr>\n",
       "      <th>TTCCGCCCAGACTACTTC</th>\n",
       "      <td>0.0</td>\n",
       "      <td>0.054724</td>\n",
       "      <td>0.017694</td>\n",
       "      <td>0.012872</td>\n",
       "      <td>0.037595</td>\n",
       "      <td>0.045050</td>\n",
       "      <td>0.027120</td>\n",
       "      <td>0.091122</td>\n",
       "      <td>0.067594</td>\n",
       "      <td>0.028497</td>\n",
       "      <td>...</td>\n",
       "      <td>0.054208</td>\n",
       "      <td>0.042044</td>\n",
       "      <td>0.038495</td>\n",
       "      <td>0.076271</td>\n",
       "      <td>0.096958</td>\n",
       "      <td>0.051337</td>\n",
       "      <td>0.020803</td>\n",
       "      <td>0.032666</td>\n",
       "      <td>0.0</td>\n",
       "      <td>0.0</td>\n",
       "    </tr>\n",
       "    <tr>\n",
       "      <th>TTCCGCGATCTTCGAGTA</th>\n",
       "      <td>0.0</td>\n",
       "      <td>0.039504</td>\n",
       "      <td>0.049985</td>\n",
       "      <td>0.026140</td>\n",
       "      <td>0.027965</td>\n",
       "      <td>0.029233</td>\n",
       "      <td>0.050466</td>\n",
       "      <td>0.045744</td>\n",
       "      <td>0.044953</td>\n",
       "      <td>0.038080</td>\n",
       "      <td>...</td>\n",
       "      <td>0.104788</td>\n",
       "      <td>0.085173</td>\n",
       "      <td>0.097875</td>\n",
       "      <td>0.106640</td>\n",
       "      <td>0.093058</td>\n",
       "      <td>0.133761</td>\n",
       "      <td>0.028700</td>\n",
       "      <td>0.056225</td>\n",
       "      <td>0.0</td>\n",
       "      <td>0.0</td>\n",
       "    </tr>\n",
       "    <tr>\n",
       "      <th>TTCCGCGGGTTTTTCATA</th>\n",
       "      <td>0.0</td>\n",
       "      <td>0.056807</td>\n",
       "      <td>0.022196</td>\n",
       "      <td>0.024884</td>\n",
       "      <td>0.017809</td>\n",
       "      <td>0.017279</td>\n",
       "      <td>0.020173</td>\n",
       "      <td>0.022408</td>\n",
       "      <td>0.025403</td>\n",
       "      <td>0.011996</td>\n",
       "      <td>...</td>\n",
       "      <td>0.096835</td>\n",
       "      <td>0.055609</td>\n",
       "      <td>0.062061</td>\n",
       "      <td>0.075384</td>\n",
       "      <td>0.063708</td>\n",
       "      <td>0.102864</td>\n",
       "      <td>0.020056</td>\n",
       "      <td>0.011051</td>\n",
       "      <td>0.0</td>\n",
       "      <td>0.0</td>\n",
       "    </tr>\n",
       "    <tr>\n",
       "      <th>TTCCGCGTCCCGACGTTG</th>\n",
       "      <td>0.0</td>\n",
       "      <td>0.068864</td>\n",
       "      <td>0.031546</td>\n",
       "      <td>0.016846</td>\n",
       "      <td>0.017010</td>\n",
       "      <td>0.014966</td>\n",
       "      <td>0.025781</td>\n",
       "      <td>0.017114</td>\n",
       "      <td>0.031027</td>\n",
       "      <td>0.021773</td>\n",
       "      <td>...</td>\n",
       "      <td>0.106073</td>\n",
       "      <td>0.077126</td>\n",
       "      <td>0.076007</td>\n",
       "      <td>0.108413</td>\n",
       "      <td>0.098055</td>\n",
       "      <td>0.149901</td>\n",
       "      <td>0.030794</td>\n",
       "      <td>0.019238</td>\n",
       "      <td>0.0</td>\n",
       "      <td>0.0</td>\n",
       "    </tr>\n",
       "    <tr>\n",
       "      <th>TTCCGCTTAACTAGTTTA</th>\n",
       "      <td>0.0</td>\n",
       "      <td>0.057032</td>\n",
       "      <td>0.017802</td>\n",
       "      <td>0.020898</td>\n",
       "      <td>0.013073</td>\n",
       "      <td>0.010710</td>\n",
       "      <td>0.029543</td>\n",
       "      <td>0.007865</td>\n",
       "      <td>0.020308</td>\n",
       "      <td>0.022234</td>\n",
       "      <td>...</td>\n",
       "      <td>0.076006</td>\n",
       "      <td>0.053206</td>\n",
       "      <td>0.047288</td>\n",
       "      <td>0.064056</td>\n",
       "      <td>0.075313</td>\n",
       "      <td>0.053042</td>\n",
       "      <td>0.049625</td>\n",
       "      <td>0.035296</td>\n",
       "      <td>0.0</td>\n",
       "      <td>0.0</td>\n",
       "    </tr>\n",
       "  </tbody>\n",
       "</table>\n",
       "<p>1372 rows × 2535 columns</p>\n",
       "</div>"
      ],
      "text/plain": [
       "Regulon             regulation of DNA recombination  \\\n",
       "Cell                                                  \n",
       "AAAACGCCATCTTTTAGG                              0.0   \n",
       "AAAACGCTTCTGGGACAT                              0.0   \n",
       "AAAACGTCGTAAGTATAC                              0.0   \n",
       "AAAACGTGCAATGGGTTT                              0.0   \n",
       "AAAACGTTCCGCTAGAGA                              0.0   \n",
       "...                                             ...   \n",
       "TTCCGCCCAGACTACTTC                              0.0   \n",
       "TTCCGCGATCTTCGAGTA                              0.0   \n",
       "TTCCGCGGGTTTTTCATA                              0.0   \n",
       "TTCCGCGTCCCGACGTTG                              0.0   \n",
       "TTCCGCTTAACTAGTTTA                              0.0   \n",
       "\n",
       "Regulon             transition metal ion transport  autophagosome assembly  \\\n",
       "Cell                                                                         \n",
       "AAAACGCCATCTTTTAGG                        0.037271                0.020156   \n",
       "AAAACGCTTCTGGGACAT                        0.070300                0.010353   \n",
       "AAAACGTCGTAAGTATAC                        0.060110                0.020739   \n",
       "AAAACGTGCAATGGGTTT                        0.047405                0.043507   \n",
       "AAAACGTTCCGCTAGAGA                        0.033799                0.039362   \n",
       "...                                            ...                     ...   \n",
       "TTCCGCCCAGACTACTTC                        0.054724                0.017694   \n",
       "TTCCGCGATCTTCGAGTA                        0.039504                0.049985   \n",
       "TTCCGCGGGTTTTTCATA                        0.056807                0.022196   \n",
       "TTCCGCGTCCCGACGTTG                        0.068864                0.031546   \n",
       "TTCCGCTTAACTAGTTTA                        0.057032                0.017802   \n",
       "\n",
       "Regulon             mitotic sister chromatid segregation  \\\n",
       "Cell                                                       \n",
       "AAAACGCCATCTTTTAGG                              0.025599   \n",
       "AAAACGCTTCTGGGACAT                              0.023561   \n",
       "AAAACGTCGTAAGTATAC                              0.019353   \n",
       "AAAACGTGCAATGGGTTT                              0.017940   \n",
       "AAAACGTTCCGCTAGAGA                              0.026862   \n",
       "...                                                  ...   \n",
       "TTCCGCCCAGACTACTTC                              0.012872   \n",
       "TTCCGCGATCTTCGAGTA                              0.026140   \n",
       "TTCCGCGGGTTTTTCATA                              0.024884   \n",
       "TTCCGCGTCCCGACGTTG                              0.016846   \n",
       "TTCCGCTTAACTAGTTTA                              0.020898   \n",
       "\n",
       "Regulon             cell cycle checkpoint signaling  \\\n",
       "Cell                                                  \n",
       "AAAACGCCATCTTTTAGG                         0.022751   \n",
       "AAAACGCTTCTGGGACAT                         0.020921   \n",
       "AAAACGTCGTAAGTATAC                         0.024880   \n",
       "AAAACGTGCAATGGGTTT                         0.014172   \n",
       "AAAACGTTCCGCTAGAGA                         0.025390   \n",
       "...                                             ...   \n",
       "TTCCGCCCAGACTACTTC                         0.037595   \n",
       "TTCCGCGATCTTCGAGTA                         0.027965   \n",
       "TTCCGCGGGTTTTTCATA                         0.017809   \n",
       "TTCCGCGTCCCGACGTTG                         0.017010   \n",
       "TTCCGCTTAACTAGTTTA                         0.013073   \n",
       "\n",
       "Regulon             DNA damage checkpoint signaling  \\\n",
       "Cell                                                  \n",
       "AAAACGCCATCTTTTAGG                         0.023631   \n",
       "AAAACGCTTCTGGGACAT                         0.019615   \n",
       "AAAACGTCGTAAGTATAC                         0.026221   \n",
       "AAAACGTGCAATGGGTTT                         0.017505   \n",
       "AAAACGTTCCGCTAGAGA                         0.026301   \n",
       "...                                             ...   \n",
       "TTCCGCCCAGACTACTTC                         0.045050   \n",
       "TTCCGCGATCTTCGAGTA                         0.029233   \n",
       "TTCCGCGGGTTTTTCATA                         0.017279   \n",
       "TTCCGCGTCCCGACGTTG                         0.014966   \n",
       "TTCCGCTTAACTAGTTTA                         0.010710   \n",
       "\n",
       "Regulon             regulation of cyclin-dependent protein serine/threonine kinase activity  \\\n",
       "Cell                                                                                          \n",
       "AAAACGCCATCTTTTAGG                                           0.039260                         \n",
       "AAAACGCTTCTGGGACAT                                           0.031978                         \n",
       "AAAACGTCGTAAGTATAC                                           0.037091                         \n",
       "AAAACGTGCAATGGGTTT                                           0.040357                         \n",
       "AAAACGTTCCGCTAGAGA                                           0.063969                         \n",
       "...                                                               ...                         \n",
       "TTCCGCCCAGACTACTTC                                           0.027120                         \n",
       "TTCCGCGATCTTCGAGTA                                           0.050466                         \n",
       "TTCCGCGGGTTTTTCATA                                           0.020173                         \n",
       "TTCCGCGTCCCGACGTTG                                           0.025781                         \n",
       "TTCCGCTTAACTAGTTTA                                           0.029543                         \n",
       "\n",
       "Regulon             mitotic G1 phase  G1/S transition of mitotic cell cycle  \\\n",
       "Cell                                                                          \n",
       "AAAACGCCATCTTTTAGG          0.034000                               0.042582   \n",
       "AAAACGCTTCTGGGACAT          0.038016                               0.037507   \n",
       "AAAACGTCGTAAGTATAC          0.027337                               0.049527   \n",
       "AAAACGTGCAATGGGTTT          0.033665                               0.043131   \n",
       "AAAACGTTCCGCTAGAGA          0.052437                               0.051447   \n",
       "...                              ...                                    ...   \n",
       "TTCCGCCCAGACTACTTC          0.091122                               0.067594   \n",
       "TTCCGCGATCTTCGAGTA          0.045744                               0.044953   \n",
       "TTCCGCGGGTTTTTCATA          0.022408                               0.025403   \n",
       "TTCCGCGTCCCGACGTTG          0.017114                               0.031027   \n",
       "TTCCGCTTAACTAGTTTA          0.007865                               0.020308   \n",
       "\n",
       "Regulon             G2/M transition of mitotic cell cycle  ...  \\\n",
       "Cell                                                       ...   \n",
       "AAAACGCCATCTTTTAGG                               0.025189  ...   \n",
       "AAAACGCTTCTGGGACAT                               0.013935  ...   \n",
       "AAAACGTCGTAAGTATAC                               0.027716  ...   \n",
       "AAAACGTGCAATGGGTTT                               0.029424  ...   \n",
       "AAAACGTTCCGCTAGAGA                               0.025019  ...   \n",
       "...                                                   ...  ...   \n",
       "TTCCGCCCAGACTACTTC                               0.028497  ...   \n",
       "TTCCGCGATCTTCGAGTA                               0.038080  ...   \n",
       "TTCCGCGGGTTTTTCATA                               0.011996  ...   \n",
       "TTCCGCGTCCCGACGTTG                               0.021773  ...   \n",
       "TTCCGCTTAACTAGTTTA                               0.022234  ...   \n",
       "\n",
       "Regulon             positive regulation of apoptotic signaling pathway  \\\n",
       "Cell                                                                     \n",
       "AAAACGCCATCTTTTAGG                                           0.078983    \n",
       "AAAACGCTTCTGGGACAT                                           0.067058    \n",
       "AAAACGTCGTAAGTATAC                                           0.090696    \n",
       "AAAACGTGCAATGGGTTT                                           0.068907    \n",
       "AAAACGTTCCGCTAGAGA                                           0.038884    \n",
       "...                                                               ...    \n",
       "TTCCGCCCAGACTACTTC                                           0.054208    \n",
       "TTCCGCGATCTTCGAGTA                                           0.104788    \n",
       "TTCCGCGGGTTTTTCATA                                           0.096835    \n",
       "TTCCGCGTCCCGACGTTG                                           0.106073    \n",
       "TTCCGCTTAACTAGTTTA                                           0.076006    \n",
       "\n",
       "Regulon             regulation of extrinsic apoptotic signaling pathway  \\\n",
       "Cell                                                                      \n",
       "AAAACGCCATCTTTTAGG                                           0.067408     \n",
       "AAAACGCTTCTGGGACAT                                           0.045796     \n",
       "AAAACGTCGTAAGTATAC                                           0.069651     \n",
       "AAAACGTGCAATGGGTTT                                           0.051454     \n",
       "AAAACGTTCCGCTAGAGA                                           0.068566     \n",
       "...                                                               ...     \n",
       "TTCCGCCCAGACTACTTC                                           0.042044     \n",
       "TTCCGCGATCTTCGAGTA                                           0.085173     \n",
       "TTCCGCGGGTTTTTCATA                                           0.055609     \n",
       "TTCCGCGTCCCGACGTTG                                           0.077126     \n",
       "TTCCGCTTAACTAGTTTA                                           0.053206     \n",
       "\n",
       "Regulon             negative regulation of extrinsic apoptotic signaling pathway  \\\n",
       "Cell                                                                               \n",
       "AAAACGCCATCTTTTAGG                                           0.074805              \n",
       "AAAACGCTTCTGGGACAT                                           0.054062              \n",
       "AAAACGTCGTAAGTATAC                                           0.065140              \n",
       "AAAACGTGCAATGGGTTT                                           0.051106              \n",
       "AAAACGTTCCGCTAGAGA                                           0.076051              \n",
       "...                                                               ...              \n",
       "TTCCGCCCAGACTACTTC                                           0.038495              \n",
       "TTCCGCGATCTTCGAGTA                                           0.097875              \n",
       "TTCCGCGGGTTTTTCATA                                           0.062061              \n",
       "TTCCGCGTCCCGACGTTG                                           0.076007              \n",
       "TTCCGCTTAACTAGTTTA                                           0.047288              \n",
       "\n",
       "Regulon             regulation of intrinsic apoptotic signaling pathway  \\\n",
       "Cell                                                                      \n",
       "AAAACGCCATCTTTTAGG                                           0.073750     \n",
       "AAAACGCTTCTGGGACAT                                           0.076298     \n",
       "AAAACGTCGTAAGTATAC                                           0.104695     \n",
       "AAAACGTGCAATGGGTTT                                           0.073716     \n",
       "AAAACGTTCCGCTAGAGA                                           0.052507     \n",
       "...                                                               ...     \n",
       "TTCCGCCCAGACTACTTC                                           0.076271     \n",
       "TTCCGCGATCTTCGAGTA                                           0.106640     \n",
       "TTCCGCGGGTTTTTCATA                                           0.075384     \n",
       "TTCCGCGTCCCGACGTTG                                           0.108413     \n",
       "TTCCGCTTAACTAGTTTA                                           0.064056     \n",
       "\n",
       "Regulon             negative regulation of intrinsic apoptotic signaling pathway  \\\n",
       "Cell                                                                               \n",
       "AAAACGCCATCTTTTAGG                                           0.072336              \n",
       "AAAACGCTTCTGGGACAT                                           0.078874              \n",
       "AAAACGTCGTAAGTATAC                                           0.107687              \n",
       "AAAACGTGCAATGGGTTT                                           0.074356              \n",
       "AAAACGTTCCGCTAGAGA                                           0.079434              \n",
       "...                                                               ...              \n",
       "TTCCGCCCAGACTACTTC                                           0.096958              \n",
       "TTCCGCGATCTTCGAGTA                                           0.093058              \n",
       "TTCCGCGGGTTTTTCATA                                           0.063708              \n",
       "TTCCGCGTCCCGACGTTG                                           0.098055              \n",
       "TTCCGCTTAACTAGTTTA                                           0.075313              \n",
       "\n",
       "Regulon             positive regulation of intrinsic apoptotic signaling pathway  \\\n",
       "Cell                                                                               \n",
       "AAAACGCCATCTTTTAGG                                           0.071190              \n",
       "AAAACGCTTCTGGGACAT                                           0.080757              \n",
       "AAAACGTCGTAAGTATAC                                           0.112848              \n",
       "AAAACGTGCAATGGGTTT                                           0.064162              \n",
       "AAAACGTTCCGCTAGAGA                                           0.002387              \n",
       "...                                                               ...              \n",
       "TTCCGCCCAGACTACTTC                                           0.051337              \n",
       "TTCCGCGATCTTCGAGTA                                           0.133761              \n",
       "TTCCGCGGGTTTTTCATA                                           0.102864              \n",
       "TTCCGCGTCCCGACGTTG                                           0.149901              \n",
       "TTCCGCTTAACTAGTTTA                                           0.053042              \n",
       "\n",
       "Regulon             negative regulation of chromosome organization  \\\n",
       "Cell                                                                 \n",
       "AAAACGCCATCTTTTAGG                                        0.042303   \n",
       "AAAACGCTTCTGGGACAT                                        0.035532   \n",
       "AAAACGTCGTAAGTATAC                                        0.025027   \n",
       "AAAACGTGCAATGGGTTT                                        0.033047   \n",
       "AAAACGTTCCGCTAGAGA                                        0.033292   \n",
       "...                                                            ...   \n",
       "TTCCGCCCAGACTACTTC                                        0.020803   \n",
       "TTCCGCGATCTTCGAGTA                                        0.028700   \n",
       "TTCCGCGGGTTTTTCATA                                        0.020056   \n",
       "TTCCGCGTCCCGACGTTG                                        0.030794   \n",
       "TTCCGCTTAACTAGTTTA                                        0.049625   \n",
       "\n",
       "Regulon             positive regulation of chromosome organization  \\\n",
       "Cell                                                                 \n",
       "AAAACGCCATCTTTTAGG                                        0.052002   \n",
       "AAAACGCTTCTGGGACAT                                        0.021033   \n",
       "AAAACGTCGTAAGTATAC                                        0.030755   \n",
       "AAAACGTGCAATGGGTTT                                        0.026014   \n",
       "AAAACGTTCCGCTAGAGA                                        0.019653   \n",
       "...                                                            ...   \n",
       "TTCCGCCCAGACTACTTC                                        0.032666   \n",
       "TTCCGCGATCTTCGAGTA                                        0.056225   \n",
       "TTCCGCGGGTTTTTCATA                                        0.011051   \n",
       "TTCCGCGTCCCGACGTTG                                        0.019238   \n",
       "TTCCGCTTAACTAGTTTA                                        0.035296   \n",
       "\n",
       "Regulon             regulation of cation channel activity  \\\n",
       "Cell                                                        \n",
       "AAAACGCCATCTTTTAGG                                    0.0   \n",
       "AAAACGCTTCTGGGACAT                                    0.0   \n",
       "AAAACGTCGTAAGTATAC                                    0.0   \n",
       "AAAACGTGCAATGGGTTT                                    0.0   \n",
       "AAAACGTTCCGCTAGAGA                                    0.0   \n",
       "...                                                   ...   \n",
       "TTCCGCCCAGACTACTTC                                    0.0   \n",
       "TTCCGCGATCTTCGAGTA                                    0.0   \n",
       "TTCCGCGGGTTTTTCATA                                    0.0   \n",
       "TTCCGCGTCCCGACGTTG                                    0.0   \n",
       "TTCCGCTTAACTAGTTTA                                    0.0   \n",
       "\n",
       "Regulon             positive regulation of cation channel activity  \n",
       "Cell                                                                \n",
       "AAAACGCCATCTTTTAGG                                             0.0  \n",
       "AAAACGCTTCTGGGACAT                                             0.0  \n",
       "AAAACGTCGTAAGTATAC                                             0.0  \n",
       "AAAACGTGCAATGGGTTT                                             0.0  \n",
       "AAAACGTTCCGCTAGAGA                                             0.0  \n",
       "...                                                            ...  \n",
       "TTCCGCCCAGACTACTTC                                             0.0  \n",
       "TTCCGCGATCTTCGAGTA                                             0.0  \n",
       "TTCCGCGGGTTTTTCATA                                             0.0  \n",
       "TTCCGCGTCCCGACGTTG                                             0.0  \n",
       "TTCCGCTTAACTAGTTTA                                             0.0  \n",
       "\n",
       "[1372 rows x 2535 columns]"
      ]
     },
     "execution_count": 64,
     "metadata": {},
     "output_type": "execute_result"
    }
   ],
   "source": [
    "aucell(mtx_used.T, signatures,)"
   ]
  },
  {
   "cell_type": "code",
   "execution_count": 72,
   "metadata": {
    "ExecuteTime": {
     "end_time": "2021-09-03T14:26:55.503304Z",
     "start_time": "2021-09-03T14:26:55.486349Z"
    }
   },
   "outputs": [
    {
     "data": {
      "text/plain": [
       "pandas.core.frame.DataFrame"
      ]
     },
     "execution_count": 72,
     "metadata": {},
     "output_type": "execute_result"
    }
   ],
   "source": [
    "type(mtx_used.T)"
   ]
  },
  {
   "cell_type": "code",
   "execution_count": 67,
   "metadata": {
    "ExecuteTime": {
     "end_time": "2021-09-03T13:48:18.208751Z",
     "start_time": "2021-09-03T13:48:18.201771Z"
    }
   },
   "outputs": [],
   "source": [
    "import pickle"
   ]
  },
  {
   "cell_type": "code",
   "execution_count": 71,
   "metadata": {
    "ExecuteTime": {
     "end_time": "2021-09-03T13:49:47.162975Z",
     "start_time": "2021-09-03T13:49:47.021356Z"
    }
   },
   "outputs": [],
   "source": [
    "with open('./signatures.pl', 'wb') as f:\n",
    "    pickle.dump(signatures, f)"
   ]
  },
  {
   "cell_type": "code",
   "execution_count": 66,
   "metadata": {
    "ExecuteTime": {
     "end_time": "2021-09-02T13:42:12.014986Z",
     "start_time": "2021-09-02T13:42:12.007993Z"
    }
   },
   "outputs": [],
   "source": [
    "?aucell"
   ]
  }
 ],
 "metadata": {
  "kernelspec": {
   "display_name": "Python 3",
   "language": "python",
   "name": "python3"
  },
  "language_info": {
   "codemirror_mode": {
    "name": "ipython",
    "version": 3
   },
   "file_extension": ".py",
   "mimetype": "text/x-python",
   "name": "python",
   "nbconvert_exporter": "python",
   "pygments_lexer": "ipython3",
   "version": "3.7.4"
  },
  "toc": {
   "base_numbering": 1,
   "nav_menu": {},
   "number_sections": true,
   "sideBar": true,
   "skip_h1_title": false,
   "title_cell": "Table of Contents",
   "title_sidebar": "Contents",
   "toc_cell": false,
   "toc_position": {
    "height": "calc(100% - 180px)",
    "left": "10px",
    "top": "150px",
    "width": "227.038px"
   },
   "toc_section_display": true,
   "toc_window_display": true
  }
 },
 "nbformat": 4,
 "nbformat_minor": 2
}
