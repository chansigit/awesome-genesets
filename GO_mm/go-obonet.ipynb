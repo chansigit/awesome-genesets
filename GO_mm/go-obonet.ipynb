{
 "cells": [
  {
   "cell_type": "markdown",
   "metadata": {},
   "source": [
    "# import annotations for genes"
   ]
  },
  {
   "cell_type": "code",
   "execution_count": 4,
   "metadata": {
    "ExecuteTime": {
     "end_time": "2021-01-22T15:33:11.404262Z",
     "start_time": "2021-01-22T15:33:11.134542Z"
    }
   },
   "outputs": [],
   "source": [
    "import pandas as pd"
   ]
  },
  {
   "cell_type": "code",
   "execution_count": 5,
   "metadata": {
    "ExecuteTime": {
     "end_time": "2021-01-22T15:33:15.121776Z",
     "start_time": "2021-01-22T15:33:13.978920Z"
    }
   },
   "outputs": [],
   "source": [
    "anno = pd.read_csv(\"./mgi.gaf\", sep=\"\\t\", \n",
    "                       comment=\"!\", low_memory=False,\n",
    "                       names=[\"DB\",\"DBObjectID\",\"Symbol\",\"Qualifier\",\n",
    " \"GOID\",\"DBReference\",\"EvidenceCode\",\"WithFrom\",\n",
    " \"Aspect\",\"DBObjectName\",\"DBObjectSynonym\",\"DBObjectType\",\n",
    " \"Taxon\",\"Date\",\"AssignedBy\",\"AnnotationExtension\",\"GeneProductFormID\"]\n",
    "                      )"
   ]
  },
  {
   "cell_type": "code",
   "execution_count": 101,
   "metadata": {
    "ExecuteTime": {
     "end_time": "2021-01-23T07:41:13.749487Z",
     "start_time": "2021-01-23T07:41:13.729830Z"
    }
   },
   "outputs": [
    {
     "data": {
      "text/html": [
       "<div>\n",
       "<style scoped>\n",
       "    .dataframe tbody tr th:only-of-type {\n",
       "        vertical-align: middle;\n",
       "    }\n",
       "\n",
       "    .dataframe tbody tr th {\n",
       "        vertical-align: top;\n",
       "    }\n",
       "\n",
       "    .dataframe thead th {\n",
       "        text-align: right;\n",
       "    }\n",
       "</style>\n",
       "<table border=\"1\" class=\"dataframe\">\n",
       "  <thead>\n",
       "    <tr style=\"text-align: right;\">\n",
       "      <th></th>\n",
       "      <th>DB</th>\n",
       "      <th>DBObjectID</th>\n",
       "      <th>Symbol</th>\n",
       "      <th>Qualifier</th>\n",
       "      <th>GOID</th>\n",
       "      <th>DBReference</th>\n",
       "      <th>EvidenceCode</th>\n",
       "      <th>WithFrom</th>\n",
       "      <th>Aspect</th>\n",
       "      <th>DBObjectName</th>\n",
       "      <th>DBObjectSynonym</th>\n",
       "      <th>DBObjectType</th>\n",
       "      <th>Taxon</th>\n",
       "      <th>Date</th>\n",
       "      <th>AssignedBy</th>\n",
       "      <th>AnnotationExtension</th>\n",
       "      <th>GeneProductFormID</th>\n",
       "    </tr>\n",
       "  </thead>\n",
       "  <tbody>\n",
       "    <tr>\n",
       "      <th>0</th>\n",
       "      <td>MGI</td>\n",
       "      <td>MGI:1918911</td>\n",
       "      <td>0610005C13Rik</td>\n",
       "      <td>NaN</td>\n",
       "      <td>GO:0003674</td>\n",
       "      <td>MGI:MGI:2156816|GO_REF:0000015</td>\n",
       "      <td>ND</td>\n",
       "      <td>NaN</td>\n",
       "      <td>F</td>\n",
       "      <td>RIKEN cDNA 0610005C13 gene</td>\n",
       "      <td>NaN</td>\n",
       "      <td>gene</td>\n",
       "      <td>taxon:10090</td>\n",
       "      <td>20200917</td>\n",
       "      <td>MGI</td>\n",
       "      <td>NaN</td>\n",
       "      <td>NaN</td>\n",
       "    </tr>\n",
       "    <tr>\n",
       "      <th>1</th>\n",
       "      <td>MGI</td>\n",
       "      <td>MGI:1918911</td>\n",
       "      <td>0610005C13Rik</td>\n",
       "      <td>NaN</td>\n",
       "      <td>GO:0005575</td>\n",
       "      <td>MGI:MGI:2156816|GO_REF:0000015</td>\n",
       "      <td>ND</td>\n",
       "      <td>NaN</td>\n",
       "      <td>C</td>\n",
       "      <td>RIKEN cDNA 0610005C13 gene</td>\n",
       "      <td>NaN</td>\n",
       "      <td>gene</td>\n",
       "      <td>taxon:10090</td>\n",
       "      <td>20100209</td>\n",
       "      <td>MGI</td>\n",
       "      <td>NaN</td>\n",
       "      <td>NaN</td>\n",
       "    </tr>\n",
       "    <tr>\n",
       "      <th>2</th>\n",
       "      <td>MGI</td>\n",
       "      <td>MGI:1918911</td>\n",
       "      <td>0610005C13Rik</td>\n",
       "      <td>NaN</td>\n",
       "      <td>GO:0008150</td>\n",
       "      <td>MGI:MGI:2156816|GO_REF:0000015</td>\n",
       "      <td>ND</td>\n",
       "      <td>NaN</td>\n",
       "      <td>P</td>\n",
       "      <td>RIKEN cDNA 0610005C13 gene</td>\n",
       "      <td>NaN</td>\n",
       "      <td>gene</td>\n",
       "      <td>taxon:10090</td>\n",
       "      <td>20100209</td>\n",
       "      <td>MGI</td>\n",
       "      <td>NaN</td>\n",
       "      <td>NaN</td>\n",
       "    </tr>\n",
       "    <tr>\n",
       "      <th>3</th>\n",
       "      <td>MGI</td>\n",
       "      <td>MGI:1923503</td>\n",
       "      <td>0610006L08Rik</td>\n",
       "      <td>NaN</td>\n",
       "      <td>GO:0003674</td>\n",
       "      <td>MGI:MGI:2156816|GO_REF:0000015</td>\n",
       "      <td>ND</td>\n",
       "      <td>NaN</td>\n",
       "      <td>F</td>\n",
       "      <td>RIKEN cDNA 0610006L08 gene</td>\n",
       "      <td>NaN</td>\n",
       "      <td>gene</td>\n",
       "      <td>taxon:10090</td>\n",
       "      <td>20120430</td>\n",
       "      <td>MGI</td>\n",
       "      <td>NaN</td>\n",
       "      <td>NaN</td>\n",
       "    </tr>\n",
       "    <tr>\n",
       "      <th>4</th>\n",
       "      <td>MGI</td>\n",
       "      <td>MGI:1923503</td>\n",
       "      <td>0610006L08Rik</td>\n",
       "      <td>NaN</td>\n",
       "      <td>GO:0005575</td>\n",
       "      <td>MGI:MGI:2156816|GO_REF:0000015</td>\n",
       "      <td>ND</td>\n",
       "      <td>NaN</td>\n",
       "      <td>C</td>\n",
       "      <td>RIKEN cDNA 0610006L08 gene</td>\n",
       "      <td>NaN</td>\n",
       "      <td>gene</td>\n",
       "      <td>taxon:10090</td>\n",
       "      <td>20120430</td>\n",
       "      <td>MGI</td>\n",
       "      <td>NaN</td>\n",
       "      <td>NaN</td>\n",
       "    </tr>\n",
       "    <tr>\n",
       "      <th>...</th>\n",
       "      <td>...</td>\n",
       "      <td>...</td>\n",
       "      <td>...</td>\n",
       "      <td>...</td>\n",
       "      <td>...</td>\n",
       "      <td>...</td>\n",
       "      <td>...</td>\n",
       "      <td>...</td>\n",
       "      <td>...</td>\n",
       "      <td>...</td>\n",
       "      <td>...</td>\n",
       "      <td>...</td>\n",
       "      <td>...</td>\n",
       "      <td>...</td>\n",
       "      <td>...</td>\n",
       "      <td>...</td>\n",
       "      <td>...</td>\n",
       "    </tr>\n",
       "    <tr>\n",
       "      <th>435630</th>\n",
       "      <td>MGI</td>\n",
       "      <td>MGI:3642815</td>\n",
       "      <td>Gm10139</td>\n",
       "      <td>NaN</td>\n",
       "      <td>GO:0000977</td>\n",
       "      <td>PMID:21873635</td>\n",
       "      <td>IBA</td>\n",
       "      <td>PANTHER:PTN004701291|FB:FBgn0013469|RGD:708346...</td>\n",
       "      <td>F</td>\n",
       "      <td>Mszf85 (Fragment)</td>\n",
       "      <td>UniProtKB:O88245|PTN002394231</td>\n",
       "      <td>protein</td>\n",
       "      <td>taxon:10090</td>\n",
       "      <td>20200702</td>\n",
       "      <td>GO_Central</td>\n",
       "      <td>NaN</td>\n",
       "      <td>NaN</td>\n",
       "    </tr>\n",
       "    <tr>\n",
       "      <th>435631</th>\n",
       "      <td>MGI</td>\n",
       "      <td>MGI:3039605</td>\n",
       "      <td>BC053393</td>\n",
       "      <td>NaN</td>\n",
       "      <td>GO:0009986</td>\n",
       "      <td>PMID:21873635</td>\n",
       "      <td>IBA</td>\n",
       "      <td>PANTHER:PTN000398400|MGI:MGI:2159681|MGI:MGI:2...</td>\n",
       "      <td>C</td>\n",
       "      <td>cDNA sequence BC053393</td>\n",
       "      <td>UniProtKB:A0A0B4J1F6|PTN002310769</td>\n",
       "      <td>protein</td>\n",
       "      <td>taxon:10090</td>\n",
       "      <td>20200214</td>\n",
       "      <td>GO_Central</td>\n",
       "      <td>NaN</td>\n",
       "      <td>NaN</td>\n",
       "    </tr>\n",
       "    <tr>\n",
       "      <th>435632</th>\n",
       "      <td>MGI</td>\n",
       "      <td>MGI:3040683</td>\n",
       "      <td>Zfp948</td>\n",
       "      <td>NaN</td>\n",
       "      <td>GO:0000978</td>\n",
       "      <td>PMID:21873635</td>\n",
       "      <td>IBA</td>\n",
       "      <td>PANTHER:PTN004700594|MGI:MGI:2442943|MGI:MGI:1...</td>\n",
       "      <td>F</td>\n",
       "      <td>Zinc finger protein 948</td>\n",
       "      <td>UniProtKB:Q6DFU8|PTN000691799</td>\n",
       "      <td>protein</td>\n",
       "      <td>taxon:10090</td>\n",
       "      <td>20200702</td>\n",
       "      <td>GO_Central</td>\n",
       "      <td>NaN</td>\n",
       "      <td>NaN</td>\n",
       "    </tr>\n",
       "    <tr>\n",
       "      <th>435633</th>\n",
       "      <td>MGI</td>\n",
       "      <td>MGI:1202717</td>\n",
       "      <td>Psen1</td>\n",
       "      <td>NaN</td>\n",
       "      <td>GO:0007220</td>\n",
       "      <td>PMID:21873635</td>\n",
       "      <td>IBA</td>\n",
       "      <td>PANTHER:PTN000024431|FB:FBgn0284421|MGI:MGI:12...</td>\n",
       "      <td>P</td>\n",
       "      <td>Presenilin-1</td>\n",
       "      <td>Psen1|Ad3h|Psnl1</td>\n",
       "      <td>protein</td>\n",
       "      <td>taxon:10090</td>\n",
       "      <td>20170228</td>\n",
       "      <td>GO_Central</td>\n",
       "      <td>NaN</td>\n",
       "      <td>NaN</td>\n",
       "    </tr>\n",
       "    <tr>\n",
       "      <th>435634</th>\n",
       "      <td>MGI</td>\n",
       "      <td>MGI:1855691</td>\n",
       "      <td>Map3k6</td>\n",
       "      <td>NaN</td>\n",
       "      <td>GO:0033554</td>\n",
       "      <td>PMID:21873635</td>\n",
       "      <td>IBA</td>\n",
       "      <td>PANTHER:PTN000684847|UniProtKB:Q99683|RGD:1306...</td>\n",
       "      <td>P</td>\n",
       "      <td>mitogen-activated protein kinase kinase kinase 6</td>\n",
       "      <td>Ask2|MAPKKK6|MEKK6</td>\n",
       "      <td>protein</td>\n",
       "      <td>taxon:10090</td>\n",
       "      <td>20200807</td>\n",
       "      <td>GO_Central</td>\n",
       "      <td>NaN</td>\n",
       "      <td>NaN</td>\n",
       "    </tr>\n",
       "  </tbody>\n",
       "</table>\n",
       "<p>435635 rows × 17 columns</p>\n",
       "</div>"
      ],
      "text/plain": [
       "         DB   DBObjectID         Symbol Qualifier        GOID  \\\n",
       "0       MGI  MGI:1918911  0610005C13Rik       NaN  GO:0003674   \n",
       "1       MGI  MGI:1918911  0610005C13Rik       NaN  GO:0005575   \n",
       "2       MGI  MGI:1918911  0610005C13Rik       NaN  GO:0008150   \n",
       "3       MGI  MGI:1923503  0610006L08Rik       NaN  GO:0003674   \n",
       "4       MGI  MGI:1923503  0610006L08Rik       NaN  GO:0005575   \n",
       "...     ...          ...            ...       ...         ...   \n",
       "435630  MGI  MGI:3642815        Gm10139       NaN  GO:0000977   \n",
       "435631  MGI  MGI:3039605       BC053393       NaN  GO:0009986   \n",
       "435632  MGI  MGI:3040683         Zfp948       NaN  GO:0000978   \n",
       "435633  MGI  MGI:1202717          Psen1       NaN  GO:0007220   \n",
       "435634  MGI  MGI:1855691         Map3k6       NaN  GO:0033554   \n",
       "\n",
       "                           DBReference EvidenceCode  \\\n",
       "0       MGI:MGI:2156816|GO_REF:0000015           ND   \n",
       "1       MGI:MGI:2156816|GO_REF:0000015           ND   \n",
       "2       MGI:MGI:2156816|GO_REF:0000015           ND   \n",
       "3       MGI:MGI:2156816|GO_REF:0000015           ND   \n",
       "4       MGI:MGI:2156816|GO_REF:0000015           ND   \n",
       "...                                ...          ...   \n",
       "435630                   PMID:21873635          IBA   \n",
       "435631                   PMID:21873635          IBA   \n",
       "435632                   PMID:21873635          IBA   \n",
       "435633                   PMID:21873635          IBA   \n",
       "435634                   PMID:21873635          IBA   \n",
       "\n",
       "                                                 WithFrom Aspect  \\\n",
       "0                                                     NaN      F   \n",
       "1                                                     NaN      C   \n",
       "2                                                     NaN      P   \n",
       "3                                                     NaN      F   \n",
       "4                                                     NaN      C   \n",
       "...                                                   ...    ...   \n",
       "435630  PANTHER:PTN004701291|FB:FBgn0013469|RGD:708346...      F   \n",
       "435631  PANTHER:PTN000398400|MGI:MGI:2159681|MGI:MGI:2...      C   \n",
       "435632  PANTHER:PTN004700594|MGI:MGI:2442943|MGI:MGI:1...      F   \n",
       "435633  PANTHER:PTN000024431|FB:FBgn0284421|MGI:MGI:12...      P   \n",
       "435634  PANTHER:PTN000684847|UniProtKB:Q99683|RGD:1306...      P   \n",
       "\n",
       "                                            DBObjectName  \\\n",
       "0                             RIKEN cDNA 0610005C13 gene   \n",
       "1                             RIKEN cDNA 0610005C13 gene   \n",
       "2                             RIKEN cDNA 0610005C13 gene   \n",
       "3                             RIKEN cDNA 0610006L08 gene   \n",
       "4                             RIKEN cDNA 0610006L08 gene   \n",
       "...                                                  ...   \n",
       "435630                                 Mszf85 (Fragment)   \n",
       "435631                            cDNA sequence BC053393   \n",
       "435632                           Zinc finger protein 948   \n",
       "435633                                      Presenilin-1   \n",
       "435634  mitogen-activated protein kinase kinase kinase 6   \n",
       "\n",
       "                          DBObjectSynonym DBObjectType        Taxon      Date  \\\n",
       "0                                     NaN         gene  taxon:10090  20200917   \n",
       "1                                     NaN         gene  taxon:10090  20100209   \n",
       "2                                     NaN         gene  taxon:10090  20100209   \n",
       "3                                     NaN         gene  taxon:10090  20120430   \n",
       "4                                     NaN         gene  taxon:10090  20120430   \n",
       "...                                   ...          ...          ...       ...   \n",
       "435630      UniProtKB:O88245|PTN002394231      protein  taxon:10090  20200702   \n",
       "435631  UniProtKB:A0A0B4J1F6|PTN002310769      protein  taxon:10090  20200214   \n",
       "435632      UniProtKB:Q6DFU8|PTN000691799      protein  taxon:10090  20200702   \n",
       "435633                   Psen1|Ad3h|Psnl1      protein  taxon:10090  20170228   \n",
       "435634                 Ask2|MAPKKK6|MEKK6      protein  taxon:10090  20200807   \n",
       "\n",
       "        AssignedBy AnnotationExtension GeneProductFormID  \n",
       "0              MGI                 NaN               NaN  \n",
       "1              MGI                 NaN               NaN  \n",
       "2              MGI                 NaN               NaN  \n",
       "3              MGI                 NaN               NaN  \n",
       "4              MGI                 NaN               NaN  \n",
       "...            ...                 ...               ...  \n",
       "435630  GO_Central                 NaN               NaN  \n",
       "435631  GO_Central                 NaN               NaN  \n",
       "435632  GO_Central                 NaN               NaN  \n",
       "435633  GO_Central                 NaN               NaN  \n",
       "435634  GO_Central                 NaN               NaN  \n",
       "\n",
       "[435635 rows x 17 columns]"
      ]
     },
     "execution_count": 101,
     "metadata": {},
     "output_type": "execute_result"
    }
   ],
   "source": [
    "anno"
   ]
  },
  {
   "cell_type": "markdown",
   "metadata": {},
   "source": [
    "# obonet tutorial: import and analyze the Gene Ontology in Python\n",
    "\n",
    "This tutotial shows:\n",
    "\n",
    "1. How to read the Gene Ontology OBO export into `networkx` using the [`obonet`](https://github.com/dhimmel/obonet) package.\n",
    "2. Simple tasks you can do with the `networkx.MultiDiGraph` data structure."
   ]
  },
  {
   "cell_type": "code",
   "execution_count": 1,
   "metadata": {
    "ExecuteTime": {
     "end_time": "2021-01-22T15:32:01.461559Z",
     "start_time": "2021-01-22T15:32:01.000779Z"
    }
   },
   "outputs": [],
   "source": [
    "import networkx\n",
    "import obonet"
   ]
  },
  {
   "cell_type": "markdown",
   "metadata": {},
   "source": [
    "### Read the Gene Ontology\n",
    "\n",
    "Learn more about the Gene Ontology (GO) downloads [here](http://geneontology.org/page/download-ontology). Note how we can read the OBO file from a URL. `obonet.read_obo` automically detects whether it's passed a local path, URL, or open file. In addition, `obonet.read_obo` will automtically decompress files ending in `.gz`, `.bz2`, or `.gz`."
   ]
  },
  {
   "cell_type": "code",
   "execution_count": 2,
   "metadata": {
    "ExecuteTime": {
     "end_time": "2021-01-22T15:32:55.339497Z",
     "start_time": "2021-01-22T15:32:08.184879Z"
    }
   },
   "outputs": [
    {
     "name": "stdout",
     "output_type": "stream",
     "text": [
      "CPU times: user 5.69 s, sys: 222 ms, total: 5.91 s\n",
      "Wall time: 47.2 s\n"
     ]
    }
   ],
   "source": [
    "%%time\n",
    "url = 'http://purl.obolibrary.org/obo/go.obo'\n",
    "graph = obonet.read_obo(url)"
   ]
  },
  {
   "cell_type": "code",
   "execution_count": 7,
   "metadata": {
    "ExecuteTime": {
     "end_time": "2021-01-22T15:33:22.738602Z",
     "start_time": "2021-01-22T15:33:22.323307Z"
    }
   },
   "outputs": [
    {
     "name": "stdout",
     "output_type": "stream",
     "text": [
      "44091\n",
      "90434\n",
      "False\n"
     ]
    }
   ],
   "source": [
    "# Number of nodes\n",
    "print(len(graph))\n",
    "# Number of edges\n",
    "print(graph.number_of_edges())\n",
    "# Check if the ontology is a DAG\n",
    "print(networkx.is_directed_acyclic_graph(graph))"
   ]
  },
  {
   "cell_type": "markdown",
   "metadata": {},
   "source": [
    "### search nodes by prefix"
   ]
  },
  {
   "cell_type": "code",
   "execution_count": 12,
   "metadata": {
    "ExecuteTime": {
     "end_time": "2021-01-22T15:34:30.888339Z",
     "start_time": "2021-01-22T15:34:30.876701Z"
    }
   },
   "outputs": [
    {
     "data": {
      "text/plain": [
       "['oxidative phosphorylation',\n",
       " 'oxidative photosynthetic carbon pathway',\n",
       " 'oxidative phosphorylation uncoupler activity',\n",
       " 'oxidative DNA demethylation',\n",
       " 'oxidative RNA demethylation',\n",
       " 'oxidative RNA demethylase activity',\n",
       " 'oxidative DNA demethylase activity',\n",
       " 'oxidative single-stranded DNA demethylation',\n",
       " 'oxidative single-stranded RNA demethylation',\n",
       " 'oxidative demethylation',\n",
       " 'oxidative stress-induced premature senescence']"
      ]
     },
     "execution_count": 12,
     "metadata": {},
     "output_type": "execute_result"
    }
   ],
   "source": [
    "[x for x in name_to_id.keys() if x.startswith(\"oxidative\")]"
   ]
  },
  {
   "cell_type": "markdown",
   "metadata": {},
   "source": [
    "### Lookup node properties\n",
    "\n",
    "Returns a dictionary."
   ]
  },
  {
   "cell_type": "code",
   "execution_count": 8,
   "metadata": {
    "ExecuteTime": {
     "end_time": "2021-01-22T15:33:28.159513Z",
     "start_time": "2021-01-22T15:33:28.155182Z"
    }
   },
   "outputs": [
    {
     "data": {
      "text/plain": [
       "{'name': 'phagocytosis',\n",
       " 'namespace': 'biological_process',\n",
       " 'def': '\"A vesicle-mediated transport process that results in the engulfment of external particulate material by phagocytes and their delivery to the lysosome. The particles are initially contained within phagocytic vacuoles (phagosomes), which then fuse with primary lysosomes to effect digestion of the particles.\" [ISBN:0198506732]',\n",
       " 'xref': ['Wikipedia:Phagocytosis'],\n",
       " 'is_a': ['GO:0016192'],\n",
       " 'property_value': ['RO:0002161 NCBITaxon:4751']}"
      ]
     },
     "execution_count": 8,
     "metadata": {},
     "output_type": "execute_result"
    }
   ],
   "source": [
    "# Retreive properties of phagocytosis\n",
    "graph.nodes['GO:0006909']"
   ]
  },
  {
   "cell_type": "markdown",
   "metadata": {},
   "source": [
    "### Create name mappings\n",
    "\n",
    "Note that for some OBO ontologies, some nodes only have an id and not a name ([see issue](https://github.com/dhimmel/obonet/issues/11))."
   ]
  },
  {
   "cell_type": "code",
   "execution_count": 9,
   "metadata": {
    "ExecuteTime": {
     "end_time": "2021-01-22T15:33:40.240980Z",
     "start_time": "2021-01-22T15:33:40.205909Z"
    }
   },
   "outputs": [],
   "source": [
    "id_to_name = {id_: data.get('name') for id_, data in graph.nodes(data=True)}\n",
    "name_to_id = {data['name']: id_ for id_, data in graph.nodes(data=True) if 'name' in data}"
   ]
  },
  {
   "cell_type": "code",
   "execution_count": 10,
   "metadata": {
    "ExecuteTime": {
     "end_time": "2021-01-22T15:33:41.815793Z",
     "start_time": "2021-01-22T15:33:41.812411Z"
    }
   },
   "outputs": [
    {
     "data": {
      "text/plain": [
       "'myelination'"
      ]
     },
     "execution_count": 10,
     "metadata": {},
     "output_type": "execute_result"
    }
   ],
   "source": [
    "# Get the name for GO:0042552\n",
    "id_to_name['GO:0042552']"
   ]
  },
  {
   "cell_type": "code",
   "execution_count": 74,
   "metadata": {
    "ExecuteTime": {
     "end_time": "2021-01-23T06:43:55.792268Z",
     "start_time": "2021-01-23T06:43:55.788685Z"
    }
   },
   "outputs": [
    {
     "data": {
      "text/plain": [
       "'mitochondrion inheritance'"
      ]
     },
     "execution_count": 74,
     "metadata": {},
     "output_type": "execute_result"
    }
   ],
   "source": [
    "id_to_name['GO:0000001']"
   ]
  },
  {
   "cell_type": "code",
   "execution_count": 13,
   "metadata": {
    "ExecuteTime": {
     "end_time": "2021-01-22T15:44:40.604508Z",
     "start_time": "2021-01-22T15:44:40.600942Z"
    }
   },
   "outputs": [
    {
     "data": {
      "text/plain": [
       "'GO:0006119'"
      ]
     },
     "execution_count": 13,
     "metadata": {},
     "output_type": "execute_result"
    }
   ],
   "source": [
    "# Get the id for myelination\n",
    "name_to_id['oxidative phosphorylation']"
   ]
  },
  {
   "cell_type": "code",
   "execution_count": 49,
   "metadata": {
    "ExecuteTime": {
     "end_time": "2021-01-22T16:03:35.089233Z",
     "start_time": "2021-01-22T16:03:35.085477Z"
    }
   },
   "outputs": [
    {
     "data": {
      "text/plain": [
       "'GO:0008150'"
      ]
     },
     "execution_count": 49,
     "metadata": {},
     "output_type": "execute_result"
    }
   ],
   "source": [
    "name_to_id['biological_process']\n"
   ]
  },
  {
   "cell_type": "markdown",
   "metadata": {},
   "source": [
    "### Find parent or child relationships"
   ]
  },
  {
   "cell_type": "code",
   "execution_count": 11,
   "metadata": {},
   "outputs": [
    {
     "name": "stdout",
     "output_type": "stream",
     "text": [
      "• pilus ⟶ is_a ⟶ cell projection\n"
     ]
    }
   ],
   "source": [
    "# Find edges to parent terms\n",
    "node = name_to_id['pilus']\n",
    "for child, parent, key in graph.out_edges(node, keys=True):\n",
    "    print(f'• {id_to_name[child]} ⟶ {key} ⟶ {id_to_name[parent]}')"
   ]
  },
  {
   "cell_type": "code",
   "execution_count": 12,
   "metadata": {},
   "outputs": [
    {
     "name": "stdout",
     "output_type": "stream",
     "text": [
      "• pilus ⟵ part_of ⟵ pilus shaft\n",
      "• pilus ⟵ part_of ⟵ pilus tip\n",
      "• pilus ⟵ is_a ⟵ type IV pilus\n"
     ]
    }
   ],
   "source": [
    "# Find edges to children terms\n",
    "node = name_to_id['pilus']\n",
    "for parent, child, key in graph.in_edges(node, keys=True):\n",
    "    print(f'• {id_to_name[child]} ⟵ {key} ⟵ {id_to_name[parent]}')"
   ]
  },
  {
   "cell_type": "markdown",
   "metadata": {},
   "source": [
    "### Find all superterms of myelination"
   ]
  },
  {
   "cell_type": "code",
   "execution_count": 13,
   "metadata": {},
   "outputs": [
    {
     "data": {
      "text/plain": [
       "['anatomical structure development',\n",
       " 'axon ensheathment',\n",
       " 'biological_process',\n",
       " 'cellular process',\n",
       " 'developmental process',\n",
       " 'ensheathment of neurons',\n",
       " 'multicellular organism development',\n",
       " 'multicellular organismal process',\n",
       " 'nervous system development',\n",
       " 'system development']"
      ]
     },
     "execution_count": 13,
     "metadata": {},
     "output_type": "execute_result"
    }
   ],
   "source": [
    "sorted(id_to_name[superterm] for superterm in networkx.descendants(graph, 'GO:0042552'))"
   ]
  },
  {
   "cell_type": "markdown",
   "metadata": {},
   "source": [
    "### Find all offsprings of a node"
   ]
  },
  {
   "cell_type": "code",
   "execution_count": 16,
   "metadata": {
    "ExecuteTime": {
     "end_time": "2021-01-22T15:45:27.250174Z",
     "start_time": "2021-01-22T15:45:27.245870Z"
    }
   },
   "outputs": [
    {
     "data": {
      "text/plain": [
       "['ATP synthesis coupled electron transport',\n",
       " 'mitochondrial ATP synthesis coupled electron transport',\n",
       " 'mitochondrial ATP synthesis coupled proton transport',\n",
       " 'mitochondrial electron transport, NADH to ubiquinone',\n",
       " 'mitochondrial electron transport, cytochrome c to oxygen',\n",
       " 'mitochondrial electron transport, succinate to ubiquinone',\n",
       " 'mitochondrial electron transport, ubiquinol to cytochrome c',\n",
       " 'negative regulation of mitochondrial ATP synthesis coupled electron transport',\n",
       " 'negative regulation of mitochondrial ATP synthesis coupled proton transport',\n",
       " 'negative regulation of mitochondrial electron transport, NADH to ubiquinone',\n",
       " 'negative regulation of oxidative phosphorylation',\n",
       " 'plasma membrane ATP synthesis coupled electron transport',\n",
       " 'plasma membrane electron transport, NADH to quinone',\n",
       " 'positive regulation of mitochondrial ATP synthesis coupled electron transport',\n",
       " 'positive regulation of mitochondrial electron transport, NADH to ubiquinone',\n",
       " 'positive regulation of oxidative phosphorylation',\n",
       " 'regulation of mitochondrial ATP synthesis coupled electron transport',\n",
       " 'regulation of mitochondrial ATP synthesis coupled proton transport',\n",
       " 'regulation of mitochondrial electron transport, NADH to ubiquinone',\n",
       " 'regulation of oxidative phosphorylation']"
      ]
     },
     "execution_count": 16,
     "metadata": {},
     "output_type": "execute_result"
    }
   ],
   "source": [
    "sorted(id_to_name[subterm] for subterm in networkx.ancestors(graph, 'GO:0006119'))"
   ]
  },
  {
   "cell_type": "code",
   "execution_count": 18,
   "metadata": {
    "ExecuteTime": {
     "end_time": "2021-01-22T15:45:35.478522Z",
     "start_time": "2021-01-22T15:45:35.474286Z"
    }
   },
   "outputs": [
    {
     "data": {
      "text/plain": [
       "['GO:0002082',\n",
       " 'GO:0006120',\n",
       " 'GO:0006121',\n",
       " 'GO:0006122',\n",
       " 'GO:0006123',\n",
       " 'GO:0030965',\n",
       " 'GO:0042773',\n",
       " 'GO:0042774',\n",
       " 'GO:0042775',\n",
       " 'GO:0042776',\n",
       " 'GO:0090324',\n",
       " 'GO:1902956',\n",
       " 'GO:1902957',\n",
       " 'GO:1902958',\n",
       " 'GO:1903862',\n",
       " 'GO:1905446',\n",
       " 'GO:1905447',\n",
       " 'GO:1905448',\n",
       " 'GO:1905706',\n",
       " 'GO:1905707']"
      ]
     },
     "execution_count": 18,
     "metadata": {},
     "output_type": "execute_result"
    }
   ],
   "source": [
    "sorted(subterm for subterm in networkx.ancestors(graph, 'GO:0006119'))"
   ]
  },
  {
   "cell_type": "code",
   "execution_count": null,
   "metadata": {},
   "outputs": [],
   "source": [
    "molecular_function"
   ]
  },
  {
   "cell_type": "markdown",
   "metadata": {},
   "source": [
    "#### Find genes of a node"
   ]
  },
  {
   "cell_type": "code",
   "execution_count": 44,
   "metadata": {
    "ExecuteTime": {
     "end_time": "2021-01-22T15:53:50.826202Z",
     "start_time": "2021-01-22T15:53:50.789776Z"
    }
   },
   "outputs": [
    {
     "data": {
      "text/plain": [
       "['Abcd1',\n",
       " 'Actn3',\n",
       " 'Afg1l',\n",
       " 'Ak4',\n",
       " 'Apoc3',\n",
       " 'Atp5a1',\n",
       " 'Atp5b',\n",
       " 'Atp5c1',\n",
       " 'Atp5d',\n",
       " 'Atp5h',\n",
       " 'Atp5j',\n",
       " 'Atp5j2',\n",
       " 'Atp5l',\n",
       " 'Atp5o',\n",
       " 'Atp5pb',\n",
       " 'Atp7a',\n",
       " 'Atpsckmt',\n",
       " 'Bdnf',\n",
       " 'Bid',\n",
       " 'Ccnb1',\n",
       " 'Cdk1',\n",
       " 'Chchd10',\n",
       " 'Chchd2',\n",
       " 'Coq7',\n",
       " 'Coq9',\n",
       " 'Cox7a2l',\n",
       " 'Dguok',\n",
       " 'Dld',\n",
       " 'Dnajc15',\n",
       " 'Dnajc30',\n",
       " 'Fxn',\n",
       " 'Gadd45gip1',\n",
       " 'Iscu',\n",
       " 'Lexm',\n",
       " 'Mlxipl',\n",
       " 'Msh2',\n",
       " 'mt-Atp6',\n",
       " 'Mtch2',\n",
       " 'mt-Nd2',\n",
       " 'mt-Nd4',\n",
       " 'mt-Nd4l',\n",
       " 'mt-Nd5',\n",
       " 'Myc',\n",
       " 'Myog',\n",
       " 'Ndufa10',\n",
       " 'Ndufa12',\n",
       " 'Ndufa7',\n",
       " 'Ndufa8',\n",
       " 'Ndufb6',\n",
       " 'Ndufb8',\n",
       " 'Ndufb9',\n",
       " 'Ndufc2',\n",
       " 'Ndufs1',\n",
       " 'Ndufs2',\n",
       " 'Ndufv1',\n",
       " 'Ndufv2',\n",
       " 'Ndufv3',\n",
       " 'Nipsnap2',\n",
       " 'Nupr1',\n",
       " 'Park7',\n",
       " 'Pde12',\n",
       " 'Pde2a',\n",
       " 'Pink1',\n",
       " 'Ppif',\n",
       " 'Rhoa',\n",
       " 'Sdhaf2',\n",
       " 'Shmt2',\n",
       " 'Slc25a23',\n",
       " 'Slc25a33',\n",
       " 'Snca',\n",
       " 'Stoml2',\n",
       " 'Surf1',\n",
       " 'Taz',\n",
       " 'Tefm',\n",
       " 'Tnf',\n",
       " 'Uqcc2',\n",
       " 'Uqcc3',\n",
       " 'Uqcrc1',\n",
       " 'Vcp',\n",
       " 'Uqcr10',\n",
       " 'mt-Co3',\n",
       " 'Cyct',\n",
       " 'Sdha',\n",
       " 'Cox7a2',\n",
       " 'Cox7a1',\n",
       " 'Ndufs8',\n",
       " 'Uqcrq',\n",
       " 'Cox5b',\n",
       " 'mt-Cytb',\n",
       " 'Sdhc',\n",
       " 'Ndufaf1',\n",
       " 'Cycs',\n",
       " 'Uqcrfs1',\n",
       " 'Cox4i1',\n",
       " 'Cox6a1',\n",
       " 'Cox7c',\n",
       " 'Antkmt',\n",
       " 'Uqcrb',\n",
       " 'Cox5a',\n",
       " 'Cox6a2',\n",
       " 'mt-Co1',\n",
       " 'Sdhd',\n",
       " 'Cyc1',\n",
       " 'Cox4i2',\n",
       " 'mt-Co2',\n",
       " 'Uqcrh',\n",
       " 'Ndufs6']"
      ]
     },
     "execution_count": 44,
     "metadata": {},
     "output_type": "execute_result"
    }
   ],
   "source": [
    "node = 'GO:0006119'\n",
    "nodeList = sorted(subterm for subterm in networkx.ancestors(graph, node))\n",
    "nodeList.append(node)\n",
    "#print(nodeList)\n",
    "\n",
    "anno[anno[\"GOID\"].isin(nodeList)][\"Symbol\"].unique().tolist()"
   ]
  },
  {
   "cell_type": "markdown",
   "metadata": {},
   "source": [
    "### Find all paths to the root"
   ]
  },
  {
   "cell_type": "code",
   "execution_count": 15,
   "metadata": {
    "scrolled": true
   },
   "outputs": [
    {
     "name": "stdout",
     "output_type": "stream",
     "text": [
      "• starch binding ⟶ polysaccharide binding ⟶ carbohydrate binding ⟶ binding ⟶ molecular_function\n"
     ]
    }
   ],
   "source": [
    "paths = networkx.all_simple_paths(\n",
    "    graph,\n",
    "    source=name_to_id['starch binding'],\n",
    "    target=name_to_id['molecular_function']\n",
    ")\n",
    "for path in paths:\n",
    "    print('•', ' ⟶ '.join(id_to_name[node] for node in path))"
   ]
  },
  {
   "cell_type": "markdown",
   "metadata": {},
   "source": [
    "### See the ontology metadata"
   ]
  },
  {
   "cell_type": "code",
   "execution_count": 16,
   "metadata": {},
   "outputs": [
    {
     "data": {
      "text/plain": [
       "{'name': 'go',\n",
       " 'typedefs': [{'id': 'negatively_regulates',\n",
       "   'name': 'negatively regulates',\n",
       "   'namespace': 'external',\n",
       "   'xref': ['RO:0002212'],\n",
       "   'is_a': ['regulates']},\n",
       "  {'id': 'part_of',\n",
       "   'name': 'part of',\n",
       "   'namespace': 'external',\n",
       "   'xref': ['BFO:0000050'],\n",
       "   'is_transitive': 'true'},\n",
       "  {'id': 'positively_regulates',\n",
       "   'name': 'positively regulates',\n",
       "   'namespace': 'external',\n",
       "   'xref': ['RO:0002213'],\n",
       "   'holds_over_chain': ['negatively_regulates negatively_regulates'],\n",
       "   'is_a': ['regulates']},\n",
       "  {'id': 'regulates',\n",
       "   'name': 'regulates',\n",
       "   'namespace': 'external',\n",
       "   'xref': ['RO:0002211'],\n",
       "   'is_transitive': 'true'},\n",
       "  {'id': 'term_tracker_item',\n",
       "   'name': 'term tracker item',\n",
       "   'namespace': 'external',\n",
       "   'xref': ['IAO:0000233'],\n",
       "   'is_metadata_tag': 'true',\n",
       "   'is_class_level': 'true'}],\n",
       " 'instances': [],\n",
       " 'format-version': '1.2',\n",
       " 'data-version': 'releases/2020-10-09',\n",
       " 'subsetdef': ['chebi_ph7_3 \"Rhea list of ChEBI terms representing the major species at pH 7.3.\"',\n",
       "  'gocheck_do_not_annotate \"Term not to be used for direct annotation\"',\n",
       "  'gocheck_do_not_manually_annotate \"Term not to be used for direct manual annotation\"',\n",
       "  'goslim_agr \"AGR slim\"',\n",
       "  'goslim_aspergillus \"Aspergillus GO slim\"',\n",
       "  'goslim_candida \"Candida GO slim\"',\n",
       "  'goslim_chembl \"ChEMBL protein targets summary\"',\n",
       "  'goslim_drosophila \"Drosophila GO slim\"',\n",
       "  'goslim_flybase_ribbon \"FlyBase Drosophila GO ribbon slim\"',\n",
       "  'goslim_generic \"Generic GO slim\"',\n",
       "  'goslim_metagenomics \"Metagenomics GO slim\"',\n",
       "  'goslim_mouse \"Mouse GO slim\"',\n",
       "  'goslim_pir \"PIR GO slim\"',\n",
       "  'goslim_plant \"Plant GO slim\"',\n",
       "  'goslim_pombe \"Fission yeast GO slim\"',\n",
       "  'goslim_synapse \"synapse GO slim\"',\n",
       "  'goslim_yeast \"Yeast GO slim\"'],\n",
       " 'synonymtypedef': ['syngo_official_label \"label approved by the SynGO project\"',\n",
       "  'systematic_synonym \"Systematic synonym\" EXACT'],\n",
       " 'default-namespace': ['gene_ontology'],\n",
       " 'ontology': 'go'}"
      ]
     },
     "execution_count": 16,
     "metadata": {},
     "output_type": "execute_result"
    }
   ],
   "source": [
    "graph.graph"
   ]
  },
  {
   "cell_type": "markdown",
   "metadata": {},
   "source": [
    "## Create a dictionary of obsolete terms to their replacements"
   ]
  },
  {
   "cell_type": "code",
   "execution_count": 17,
   "metadata": {},
   "outputs": [
    {
     "data": {
      "text/plain": [
       "47281"
      ]
     },
     "execution_count": 17,
     "metadata": {},
     "output_type": "execute_result"
    }
   ],
   "source": [
    "graph_with_obs = obonet.read_obo(url, ignore_obsolete=False)\n",
    "len(graph_with_obs)"
   ]
  },
  {
   "cell_type": "code",
   "execution_count": 18,
   "metadata": {
    "tags": []
   },
   "outputs": [
    {
     "data": {
      "text/plain": [
       "[('GO:0000108', 'GO:0000109'),\n",
       " ('GO:0000174', 'GO:0000750'),\n",
       " ('GO:0000260', 'GO:0046961'),\n",
       " ('GO:0000261', 'GO:0046962'),\n",
       " ('GO:0000284', 'GO:0000753')]"
      ]
     },
     "execution_count": 18,
     "metadata": {},
     "output_type": "execute_result"
    }
   ],
   "source": [
    "old_to_new = dict()\n",
    "for node, data in graph_with_obs.nodes(data=True):\n",
    "    for replaced_by in data.get(\"replaced_by\", []):\n",
    "        old_to_new[node] = replaced_by\n",
    "list(old_to_new.items())[:5]"
   ]
  },
  {
   "cell_type": "markdown",
   "metadata": {},
   "source": [
    "# Build gmt file"
   ]
  },
  {
   "cell_type": "markdown",
   "metadata": {},
   "source": [
    "## Full GO for mouse"
   ]
  },
  {
   "cell_type": "code",
   "execution_count": 106,
   "metadata": {
    "ExecuteTime": {
     "end_time": "2021-01-23T07:43:45.790634Z",
     "start_time": "2021-01-23T07:43:45.787298Z"
    }
   },
   "outputs": [],
   "source": [
    "def goid2genes(annotation, GOID):\n",
    "    nodeList = sorted(subterm for subterm in networkx.ancestors(graph, GOID))\n",
    "    nodeList.append(GOID)\n",
    "    return annotation[annotation[\"GOID\"].isin(nodeList)][\"Symbol\"].unique().tolist()\n",
    "\n",
    "def goid2term(GOID):\n",
    "    return id_to_name[GOID]"
   ]
  },
  {
   "cell_type": "code",
   "execution_count": 113,
   "metadata": {
    "ExecuteTime": {
     "end_time": "2021-01-23T08:14:09.271024Z",
     "start_time": "2021-01-23T08:04:16.305050Z"
    }
   },
   "outputs": [
    {
     "data": {
      "application/vnd.jupyter.widget-view+json": {
       "model_id": "9e148fb33c294964958bda266f7c6276",
       "version_major": 2,
       "version_minor": 0
      },
      "text/plain": [
       "HBox(children=(HTML(value=''), FloatProgress(value=0.0, max=44091.0), HTML(value='')))"
      ]
     },
     "metadata": {},
     "output_type": "display_data"
    },
    {
     "name": "stdout",
     "output_type": "stream",
     "text": [
      "\n"
     ]
    }
   ],
   "source": [
    "GOIDs = [x for x in id_to_name.keys()]\n",
    "\n",
    "from tqdm.notebook import tqdm\n",
    "with open('./GO_mouse.gmt', 'a') as f:\n",
    "    for GOID in tqdm(GOIDs):\n",
    "        line= goid2term(GOID)+\"\\t\"+GOID+\"\\t\"+ \"\\t\".join(goid2genes(anno, GOID))+\"\\n\"\n",
    "        f.write(line)"
   ]
  },
  {
   "cell_type": "code",
   "execution_count": 107,
   "metadata": {
    "ExecuteTime": {
     "end_time": "2021-01-23T07:44:06.313335Z",
     "start_time": "2021-01-23T07:44:06.298767Z"
    }
   },
   "outputs": [
    {
     "data": {
      "text/plain": [
       "['Abi2',\n",
       " 'Brk1',\n",
       " 'Cyfip1',\n",
       " 'Fchsd2',\n",
       " 'Nckap1',\n",
       " 'Was',\n",
       " 'Wasf1',\n",
       " 'Wasl',\n",
       " 'Wasf2',\n",
       " 'Gm732',\n",
       " 'Wasf3']"
      ]
     },
     "execution_count": 107,
     "metadata": {},
     "output_type": "execute_result"
    }
   ],
   "source": [
    "goid2genes(anno, \"GO:2000601\")"
   ]
  },
  {
   "cell_type": "markdown",
   "metadata": {
    "ExecuteTime": {
     "end_time": "2021-01-23T07:07:21.725953Z",
     "start_time": "2021-01-23T07:07:21.723760Z"
    }
   },
   "source": [
    "## GO BP/MF/CC for mouse"
   ]
  },
  {
   "cell_type": "code",
   "execution_count": 109,
   "metadata": {
    "ExecuteTime": {
     "end_time": "2021-01-23T07:45:38.567996Z",
     "start_time": "2021-01-23T07:45:38.444171Z"
    },
    "scrolled": true
   },
   "outputs": [
    {
     "name": "stdout",
     "output_type": "stream",
     "text": [
      "31807\n",
      "12586\n",
      "5957\n"
     ]
    }
   ],
   "source": [
    "GOBPIDs=sorted(subterm for subterm in networkx.ancestors(graph, name_to_id['biological_process']))\n",
    "GOMFIDs=sorted(subterm for subterm in networkx.ancestors(graph, name_to_id['molecular_function']))\n",
    "GOCCIDs=sorted(subterm for subterm in networkx.ancestors(graph, name_to_id['cellular_component']))\n",
    "print(len(GOBPIDs))\n",
    "print(len(GOMFIDs))\n",
    "print(len(GOCCIDs))"
   ]
  },
  {
   "cell_type": "code",
   "execution_count": 110,
   "metadata": {
    "ExecuteTime": {
     "end_time": "2021-01-23T07:46:53.547947Z",
     "start_time": "2021-01-23T07:45:41.719391Z"
    }
   },
   "outputs": [
    {
     "data": {
      "application/vnd.jupyter.widget-view+json": {
       "model_id": "9d3e7255ba894d9a9eb822a500f50f74",
       "version_major": 2,
       "version_minor": 0
      },
      "text/plain": [
       "HBox(children=(HTML(value=''), FloatProgress(value=0.0, max=5957.0), HTML(value='')))"
      ]
     },
     "metadata": {},
     "output_type": "display_data"
    },
    {
     "name": "stdout",
     "output_type": "stream",
     "text": [
      "\n"
     ]
    }
   ],
   "source": [
    "from tqdm.notebook import tqdm\n",
    "with open('./GOCC_mouse.gmt', 'a') as f:\n",
    "    for GOID in tqdm(GOCCIDs):\n",
    "        line= goid2term(GOID)+\"\\t\"+GOID+\"\\t\"+ \"\\t\".join(goid2genes(anno, GOID))+\"\\n\"\n",
    "        f.write(line)"
   ]
  },
  {
   "cell_type": "code",
   "execution_count": 111,
   "metadata": {
    "ExecuteTime": {
     "end_time": "2021-01-23T07:56:33.759485Z",
     "start_time": "2021-01-23T07:54:13.440512Z"
    }
   },
   "outputs": [
    {
     "data": {
      "application/vnd.jupyter.widget-view+json": {
       "model_id": "4a81a9fbf5d44ce6b2c43d4a6753623b",
       "version_major": 2,
       "version_minor": 0
      },
      "text/plain": [
       "HBox(children=(HTML(value=''), FloatProgress(value=0.0, max=12586.0), HTML(value='')))"
      ]
     },
     "metadata": {},
     "output_type": "display_data"
    },
    {
     "name": "stdout",
     "output_type": "stream",
     "text": [
      "\n"
     ]
    }
   ],
   "source": [
    "from tqdm.notebook import tqdm\n",
    "with open('./GOMF_mouse.gmt', 'a') as f:\n",
    "    for GOID in tqdm(GOMFIDs):\n",
    "        line= goid2term(GOID)+\"\\t\"+GOID+\"\\t\"+ \"\\t\".join(goid2genes(anno, GOID))+\"\\n\"\n",
    "        f.write(line)"
   ]
  },
  {
   "cell_type": "code",
   "execution_count": 112,
   "metadata": {
    "ExecuteTime": {
     "end_time": "2021-01-23T08:04:16.302589Z",
     "start_time": "2021-01-23T07:56:33.761229Z"
    }
   },
   "outputs": [
    {
     "data": {
      "application/vnd.jupyter.widget-view+json": {
       "model_id": "6c28e40290894cd8827c2dd1252d3124",
       "version_major": 2,
       "version_minor": 0
      },
      "text/plain": [
       "HBox(children=(HTML(value=''), FloatProgress(value=0.0, max=31807.0), HTML(value='')))"
      ]
     },
     "metadata": {},
     "output_type": "display_data"
    },
    {
     "name": "stdout",
     "output_type": "stream",
     "text": [
      "\n"
     ]
    }
   ],
   "source": [
    "from tqdm.notebook import tqdm\n",
    "with open('./GOBP_mouse.gmt', 'a') as f:\n",
    "    for GOID in tqdm(GOBPIDs):\n",
    "        line= goid2term(GOID)+\"\\t\"+GOID+\"\\t\"+ \"\\t\".join(goid2genes(anno, GOID))+\"\\n\"\n",
    "        f.write(line)"
   ]
  },
  {
   "cell_type": "code",
   "execution_count": 114,
   "metadata": {
    "ExecuteTime": {
     "end_time": "2021-01-23T09:04:48.447797Z",
     "start_time": "2021-01-23T09:04:33.428662Z"
    }
   },
   "outputs": [
    {
     "name": "stdout",
     "output_type": "stream",
     "text": [
      "Looking in indexes: https://pypi.tuna.tsinghua.edu.cn/simple\n",
      "Collecting gseapy\n",
      "  Downloading https://pypi.tuna.tsinghua.edu.cn/packages/31/37/e202d5205d976a26d316e25d069e58df3af4dd04049ece5894c16ce7a61a/gseapy-0.10.2-py3-none-any.whl (525 kB)\n",
      "\u001b[K     |████████████████████████████████| 525 kB 3.8 MB/s eta 0:00:01\n",
      "\u001b[?25hRequirement already satisfied: matplotlib in /Users/chensijie/opt/anaconda3/envs/r403py38/lib/python3.8/site-packages (from gseapy) (3.3.2)\n",
      "Requirement already satisfied: joblib in /Users/chensijie/opt/anaconda3/envs/r403py38/lib/python3.8/site-packages (from gseapy) (0.17.0)\n",
      "Requirement already satisfied: numpy>=1.13.0 in /Users/chensijie/opt/anaconda3/envs/r403py38/lib/python3.8/site-packages (from gseapy) (1.19.2)\n",
      "Requirement already satisfied: pandas in /Users/chensijie/opt/anaconda3/envs/r403py38/lib/python3.8/site-packages (from gseapy) (1.1.3)\n",
      "Requirement already satisfied: scipy in /Users/chensijie/opt/anaconda3/envs/r403py38/lib/python3.8/site-packages (from gseapy) (1.5.2)\n",
      "Collecting bioservices\n",
      "  Downloading https://pypi.tuna.tsinghua.edu.cn/packages/bf/11/da269203854425f419805606d60a1c93af30e5ea50924a5a124f05dea638/bioservices-1.7.11.tar.gz (226 kB)\n",
      "\u001b[K     |████████████████████████████████| 226 kB 4.1 MB/s eta 0:00:01\n",
      "\u001b[?25hRequirement already satisfied: requests in /Users/chensijie/opt/anaconda3/envs/r403py38/lib/python3.8/site-packages (from gseapy) (2.24.0)\n",
      "Requirement already satisfied: pyparsing!=2.0.4,!=2.1.2,!=2.1.6,>=2.0.3 in /Users/chensijie/opt/anaconda3/envs/r403py38/lib/python3.8/site-packages (from matplotlib->gseapy) (2.4.7)\n",
      "Requirement already satisfied: python-dateutil>=2.1 in /Users/chensijie/opt/anaconda3/envs/r403py38/lib/python3.8/site-packages (from matplotlib->gseapy) (2.8.1)\n",
      "Requirement already satisfied: certifi>=2020.06.20 in /Users/chensijie/opt/anaconda3/envs/r403py38/lib/python3.8/site-packages (from matplotlib->gseapy) (2020.11.8)\n",
      "Requirement already satisfied: kiwisolver>=1.0.1 in /Users/chensijie/opt/anaconda3/envs/r403py38/lib/python3.8/site-packages (from matplotlib->gseapy) (1.2.0)\n",
      "Requirement already satisfied: pillow>=6.2.0 in /Users/chensijie/opt/anaconda3/envs/r403py38/lib/python3.8/site-packages (from matplotlib->gseapy) (8.0.0)\n",
      "Requirement already satisfied: cycler>=0.10 in /Users/chensijie/opt/anaconda3/envs/r403py38/lib/python3.8/site-packages (from matplotlib->gseapy) (0.10.0)\n",
      "Requirement already satisfied: pytz>=2017.2 in /Users/chensijie/opt/anaconda3/envs/r403py38/lib/python3.8/site-packages (from pandas->gseapy) (2020.1)\n",
      "Collecting grequests\n",
      "  Downloading https://pypi.tuna.tsinghua.edu.cn/packages/ed/4c/926fe81584bb9139511ec6490a924362dcc49d3d33a7fa20a7dc6515c266/grequests-0.6.0-py3-none-any.whl (5.2 kB)\n",
      "Collecting requests_cache\n",
      "  Downloading https://pypi.tuna.tsinghua.edu.cn/packages/7f/55/9b1c40eb83c16d8fc79c5f6c2ffade04208b080670fbfc35e0a5effb5a92/requests_cache-0.5.2-py2.py3-none-any.whl (22 kB)\n",
      "Collecting easydev>=0.9.36\n",
      "  Downloading https://pypi.tuna.tsinghua.edu.cn/packages/02/35/e9b336078a4aea3062c4f4ac78ad9938d86f0d2cea0d9f3f462d784971b8/easydev-0.10.1.tar.gz (50 kB)\n",
      "\u001b[K     |████████████████████████████████| 50 kB 5.4 MB/s eta 0:00:011\n",
      "\u001b[?25hCollecting beautifulsoup4\n",
      "  Downloading https://pypi.tuna.tsinghua.edu.cn/packages/d1/41/e6495bd7d3781cee623ce23ea6ac73282a373088fcd0ddc809a047b18eae/beautifulsoup4-4.9.3-py3-none-any.whl (115 kB)\n",
      "\u001b[K     |████████████████████████████████| 115 kB 2.3 MB/s eta 0:00:01\n",
      "\u001b[?25hCollecting xmltodict\n",
      "  Downloading https://pypi.tuna.tsinghua.edu.cn/packages/28/fd/30d5c1d3ac29ce229f6bdc40bbc20b28f716e8b363140c26eff19122d8a5/xmltodict-0.12.0-py2.py3-none-any.whl (9.2 kB)\n",
      "Requirement already satisfied: lxml in /Users/chensijie/opt/anaconda3/envs/r403py38/lib/python3.8/site-packages (from bioservices->gseapy) (4.6.2)\n",
      "Collecting suds-jurko\n",
      "  Downloading https://pypi.tuna.tsinghua.edu.cn/packages/bd/6f/54fbf0999a606680d27c69b1ad12dfff62768ecb9fe48524cebda6eb4423/suds-jurko-0.6.tar.bz2 (143 kB)\n",
      "\u001b[K     |████████████████████████████████| 143 kB 2.8 MB/s eta 0:00:01\n",
      "\u001b[?25hCollecting appdirs\n",
      "  Downloading https://pypi.tuna.tsinghua.edu.cn/packages/3b/00/2344469e2084fb287c2e0b57b72910309874c3245463acd6cf5e3db69324/appdirs-1.4.4-py2.py3-none-any.whl (9.6 kB)\n",
      "Collecting wrapt\n",
      "  Downloading https://pypi.tuna.tsinghua.edu.cn/packages/82/f7/e43cefbe88c5fd371f4cf0cf5eb3feccd07515af9fd6cf7dbf1d1793a797/wrapt-1.12.1.tar.gz (27 kB)\n",
      "Collecting colorlog\n",
      "  Downloading https://pypi.tuna.tsinghua.edu.cn/packages/5e/39/0230290df0519d528d8d0ffdfd900150ed24e0076d13b1f19e279444aab1/colorlog-4.7.2-py2.py3-none-any.whl (10 kB)\n",
      "Requirement already satisfied: urllib3!=1.25.0,!=1.25.1,<1.26,>=1.21.1 in /Users/chensijie/opt/anaconda3/envs/r403py38/lib/python3.8/site-packages (from requests->gseapy) (1.25.11)\n",
      "Requirement already satisfied: chardet<4,>=3.0.2 in /Users/chensijie/opt/anaconda3/envs/r403py38/lib/python3.8/site-packages (from requests->gseapy) (3.0.4)\n",
      "Requirement already satisfied: idna<3,>=2.5 in /Users/chensijie/opt/anaconda3/envs/r403py38/lib/python3.8/site-packages (from requests->gseapy) (2.10)\n",
      "Requirement already satisfied: six>=1.5 in /Users/chensijie/opt/anaconda3/envs/r403py38/lib/python3.8/site-packages (from python-dateutil>=2.1->matplotlib->gseapy) (1.15.0)\n",
      "Collecting gevent\n",
      "  Downloading https://pypi.tuna.tsinghua.edu.cn/packages/2c/53/0d9f7ee9950e61aeb01c5d9c515340201fcb73a83d334b45bfffca186bdf/gevent-21.1.2-cp38-cp38-macosx_10_14_x86_64.whl (1.8 MB)\n",
      "\u001b[K     |████████████████████████████████| 1.8 MB 1.1 MB/s eta 0:00:01\n",
      "\u001b[?25hCollecting colorama\n",
      "  Downloading https://pypi.tuna.tsinghua.edu.cn/packages/44/98/5b86278fbbf250d239ae0ecb724f8572af1c91f4a11edf4d36a206189440/colorama-0.4.4-py2.py3-none-any.whl (16 kB)\n",
      "Requirement already satisfied: pexpect in /Users/chensijie/opt/anaconda3/envs/r403py38/lib/python3.8/site-packages (from easydev>=0.9.36->bioservices->gseapy) (4.8.0)\n",
      "Collecting soupsieve>1.2; python_version >= \"3.0\"\n",
      "  Downloading https://pypi.tuna.tsinghua.edu.cn/packages/02/fb/1c65691a9aeb7bd6ac2aa505b84cb8b49ac29c976411c6ab3659425e045f/soupsieve-2.1-py3-none-any.whl (32 kB)\n",
      "Collecting zope.event\n",
      "  Downloading https://pypi.tuna.tsinghua.edu.cn/packages/9e/85/b45408c64f3b888976f1d5b37eed8d746b8d5729a66a49ec846fda27d371/zope.event-4.5.0-py2.py3-none-any.whl (6.8 kB)\n",
      "Collecting zope.interface\n",
      "  Downloading https://pypi.tuna.tsinghua.edu.cn/packages/92/98/ec429075ca578c2941e2871d9d79f894ef2ee7646f7ab9c690147e20964a/zope.interface-5.2.0-cp38-cp38-macosx_10_9_x86_64.whl (194 kB)\n",
      "\u001b[K     |████████████████████████████████| 194 kB 1.5 MB/s eta 0:00:01\n",
      "\u001b[?25hRequirement already satisfied: setuptools in /Users/chensijie/opt/anaconda3/envs/r403py38/lib/python3.8/site-packages (from gevent->grequests->bioservices->gseapy) (49.6.0.post20201009)\n",
      "Collecting greenlet<2.0,>=0.4.17; platform_python_implementation == \"CPython\"\n",
      "  Downloading https://pypi.tuna.tsinghua.edu.cn/packages/d9/37/1fee841ae56de5bb143ea0ed400e9968f93db665c3f24d1660f6c91e28f6/greenlet-1.0.0-cp38-cp38-macosx_10_14_x86_64.whl (86 kB)\n",
      "\u001b[K     |████████████████████████████████| 86 kB 357 kB/s eta 0:00:011\n",
      "\u001b[?25hRequirement already satisfied: ptyprocess>=0.5 in /Users/chensijie/opt/anaconda3/envs/r403py38/lib/python3.8/site-packages (from pexpect->easydev>=0.9.36->bioservices->gseapy) (0.6.0)\n",
      "Building wheels for collected packages: bioservices, easydev, suds-jurko, wrapt\n",
      "  Building wheel for bioservices (setup.py) ... \u001b[?25ldone\n",
      "\u001b[?25h  Created wheel for bioservices: filename=bioservices-1.7.11-py3-none-any.whl size=236089 sha256=81b18aa03b867c4261b50b344910c60e6bef44b801a12ae4f9a7105f9371083b\n",
      "  Stored in directory: /Users/chensijie/Library/Caches/pip/wheels/18/d5/5a/fb19add1fb21fd1c335b5b07f9753b2af26083f3a7b9d81047\n",
      "  Building wheel for easydev (setup.py) ... \u001b[?25ldone\n",
      "\u001b[?25h  Created wheel for easydev: filename=easydev-0.10.1-py3-none-any.whl size=68364 sha256=08cefd75805039cb5135b1f01d303a68bee74ca0f592a5fa5e0bd34bc85079da\n",
      "  Stored in directory: /Users/chensijie/Library/Caches/pip/wheels/72/4c/4b/dadf1a7414488cb13a949356c5151946c833768a9b566aa6b1\n",
      "  Building wheel for suds-jurko (setup.py) ... \u001b[?25ldone\n",
      "\u001b[?25h  Created wheel for suds-jurko: filename=suds_jurko-0.6-py3-none-any.whl size=455348 sha256=5f21bc480c7722b49c5af03ee9263962bf22a3628301ef3cc8cb68bb010a6624\n",
      "  Stored in directory: /Users/chensijie/Library/Caches/pip/wheels/b4/84/2a/242ed7e5948598b70f0880716cfd45ad43d5f68dbbcc292a3a\n"
     ]
    },
    {
     "name": "stdout",
     "output_type": "stream",
     "text": [
      "  Building wheel for wrapt (setup.py) ... \u001b[?25ldone\n",
      "\u001b[?25h  Created wheel for wrapt: filename=wrapt-1.12.1-cp38-cp38-macosx_10_9_x86_64.whl size=31066 sha256=dad12c040660266e314b6901bf554420bde55f5065ed39018994a3c947742b3e\n",
      "  Stored in directory: /Users/chensijie/Library/Caches/pip/wheels/9b/c8/62/9d6aad874ab4f2600bf95167be834ab8abfdb1d73e3051c8c6\n",
      "Successfully built bioservices easydev suds-jurko wrapt\n",
      "Installing collected packages: zope.event, zope.interface, greenlet, gevent, grequests, requests-cache, colorama, colorlog, easydev, soupsieve, beautifulsoup4, xmltodict, suds-jurko, appdirs, wrapt, bioservices, gseapy\n",
      "Successfully installed appdirs-1.4.4 beautifulsoup4-4.9.3 bioservices-1.7.11 colorama-0.4.4 colorlog-4.7.2 easydev-0.10.1 gevent-21.1.2 greenlet-1.0.0 grequests-0.6.0 gseapy-0.10.2 requests-cache-0.5.2 soupsieve-2.1 suds-jurko-0.6 wrapt-1.12.1 xmltodict-0.12.0 zope.event-4.5.0 zope.interface-5.2.0\n"
     ]
    }
   ],
   "source": [
    "!pip install gseapy"
   ]
  },
  {
   "cell_type": "code",
   "execution_count": null,
   "metadata": {},
   "outputs": [],
   "source": []
  }
 ],
 "metadata": {
  "kernelspec": {
   "display_name": "Python 3",
   "language": "python",
   "name": "python3"
  },
  "language_info": {
   "codemirror_mode": {
    "name": "ipython",
    "version": 3
   },
   "file_extension": ".py",
   "mimetype": "text/x-python",
   "name": "python",
   "nbconvert_exporter": "python",
   "pygments_lexer": "ipython3",
   "version": "3.8.6"
  },
  "toc": {
   "base_numbering": 1,
   "nav_menu": {},
   "number_sections": true,
   "sideBar": true,
   "skip_h1_title": false,
   "title_cell": "Table of Contents",
   "title_sidebar": "Contents",
   "toc_cell": false,
   "toc_position": {},
   "toc_section_display": true,
   "toc_window_display": true
  }
 },
 "nbformat": 4,
 "nbformat_minor": 2
}
